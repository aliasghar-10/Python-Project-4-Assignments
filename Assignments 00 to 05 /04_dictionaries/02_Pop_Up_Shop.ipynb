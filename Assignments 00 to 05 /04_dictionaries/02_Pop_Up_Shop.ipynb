{
  "nbformat": 4,
  "nbformat_minor": 0,
  "metadata": {
    "colab": {
      "provenance": [],
      "authorship_tag": "ABX9TyNCTWAE9b2ItrCFnp9wzcXW",
      "include_colab_link": true
    },
    "kernelspec": {
      "name": "python3",
      "display_name": "Python 3"
    },
    "language_info": {
      "name": "python"
    }
  },
  "cells": [
    {
      "cell_type": "markdown",
      "metadata": {
        "id": "view-in-github",
        "colab_type": "text"
      },
      "source": [
        "<a href=\"https://colab.research.google.com/github/aliasghar-10/Python-Project-4-Assignments/blob/main/Assignments%2000%20to%2005%20/04_dictionaries/02_Pop_Up_Shop.ipynb\" target=\"_parent\"><img src=\"https://colab.research.google.com/assets/colab-badge.svg\" alt=\"Open In Colab\"/></a>"
      ]
    },
    {
      "cell_type": "markdown",
      "source": [
        "# **Pop Up Shop Project**"
      ],
      "metadata": {
        "id": "Dz81fvxOaM6x"
      }
    },
    {
      "cell_type": "code",
      "source": [
        "def main():\n",
        "    \"\"\"\n",
        "    This program calculates the total cost of fruits based on user input.\n",
        "    \"\"\"\n",
        "    # Dictionary of fruits and their respective prices\n",
        "    fruits = {\n",
        "        'apple': 1.5,\n",
        "        'durian': 50,\n",
        "        'jackfruit': 80,\n",
        "        'kiwi': 1,\n",
        "        'rambutan': 1.5,\n",
        "        'mango': 5\n",
        "    }\n",
        "\n",
        "    total_cost = 0  # Initialize total cost to 0\n",
        "\n",
        "    # Loop through the dictionary to ask the user how many of each fruit they want to buy\n",
        "    for fruit_name, price in fruits.items():\n",
        "        amount_bought = int(input(f\"How many ({fruit_name}) do you want to buy?: \"))\n",
        "        total_cost += price * amount_bought  # Add the cost for the current fruit to the total\n",
        "\n",
        "    # Print the total cost\n",
        "    print(f\"Your total is ${total_cost:.2f}\")  # Format total cost to 2 decimal places\n",
        "\n",
        "\n",
        "# Boilerplate code to run the program\n",
        "if __name__ == \"__main__\":\n",
        "    main()\n",
        "\n"
      ],
      "metadata": {
        "colab": {
          "base_uri": "https://localhost:8080/"
        },
        "id": "oLfgJh67ahoo",
        "outputId": "7b80eec8-0ce1-4f31-ab56-98be99074a43"
      },
      "execution_count": 1,
      "outputs": [
        {
          "output_type": "stream",
          "name": "stdout",
          "text": [
            "How many (apple) do you want to buy?: 2\n",
            "How many (durian) do you want to buy?: 0\n",
            "How many (jackfruit) do you want to buy?: 2\n",
            "How many (kiwi) do you want to buy?: 0\n",
            "How many (rambutan) do you want to buy?: 9\n",
            "How many (mango) do you want to buy?: 4\n",
            "Your total is $196.50\n"
          ]
        }
      ]
    }
  ]
}