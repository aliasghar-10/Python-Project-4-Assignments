{
  "nbformat": 4,
  "nbformat_minor": 0,
  "metadata": {
    "colab": {
      "provenance": [],
      "authorship_tag": "ABX9TyMEc2qz1+9kbWmNKYcwXz1a",
      "include_colab_link": true
    },
    "kernelspec": {
      "name": "python3",
      "display_name": "Python 3"
    },
    "language_info": {
      "name": "python"
    }
  },
  "cells": [
    {
      "cell_type": "markdown",
      "metadata": {
        "id": "view-in-github",
        "colab_type": "text"
      },
      "source": [
        "<a href=\"https://colab.research.google.com/github/aliasghar-10/Python-Project-4-Assignments/blob/main/Assignments%2001/03_Advanced/Online%20Class%20Project/01_QR_Code_Encoder_%26_Decoder_Python_Project.ipynb\" target=\"_parent\"><img src=\"https://colab.research.google.com/assets/colab-badge.svg\" alt=\"Open In Colab\"/></a>"
      ]
    },
    {
      "cell_type": "markdown",
      "source": [
        "# **QR Code Encoder & Decoder Python Project**"
      ],
      "metadata": {
        "id": "3s57B3rDsX8L"
      }
    },
    {
      "cell_type": "code",
      "source": [
        "\n",
        "import qrcode\n",
        "import cv2\n",
        "from IPython.display import Image, display\n",
        "\n",
        "# Step 3: QR Code Generator (Encoder)\n",
        "def generate_qr(data, file_name=\"qrcode.png\"):\n",
        "    qr = qrcode.QRCode(\n",
        "        version=1,\n",
        "        error_correction=qrcode.constants.ERROR_CORRECT_L,\n",
        "        box_size=10,\n",
        "        border=4,\n",
        "    )\n",
        "    qr.add_data(data)\n",
        "    qr.make(fit=True)\n",
        "    img = qr.make_image(fill_color=\"black\", back_color=\"white\")\n",
        "    img.save(file_name)\n",
        "    print(f\"QR Code saved as {file_name}\")\n",
        "    display(Image(file_name))  # Display the generated QR code\n",
        "\n",
        "# Step 4: QR Code Reader (Decoder)\n",
        "def decode_qr(file_name):\n",
        "    img = cv2.imread(file_name)\n",
        "    detector = cv2.QRCodeDetector()\n",
        "    data, _, _ = detector.detectAndDecode(img)\n",
        "    if data:\n",
        "        print(\"Decoded Data:\", data)\n",
        "    else:\n",
        "        print(\"No QR Code detected or the image is not clear.\")\n",
        "\n",
        "# Step 5: Main Function for User Interaction\n",
        "def main():\n",
        "    print(\"Welcome to the QR Code Encoder/Decoder!\")\n",
        "    choice = input(\"Do you want to generate (g) or decode (d) a QR Code? (g/d): \").strip().lower()\n",
        "\n",
        "    if choice == 'g':\n",
        "        data = input(\"Enter the data to encode in the QR Code: \")\n",
        "        generate_qr(data)\n",
        "    elif choice == 'd':\n",
        "        file_name = input(\"Enter the file name of the QR Code to decode (e.g., qrcode.png): \")\n",
        "        decode_qr(file_name)\n",
        "    else:\n",
        "        print(\"Invalid choice! Please select 'g' to generate or 'd' to decode.\")\n",
        "\n",
        "# Step 6: Run the Main Function\n",
        "if __name__ == \"__main__\":\n",
        "    main()\n"
      ],
      "metadata": {
        "colab": {
          "base_uri": "https://localhost:8080/",
          "height": 376
        },
        "id": "AY_eNbsft7xJ",
        "outputId": "7de6fc09-09af-4f6d-aaa8-d0826939e9c7"
      },
      "execution_count": 4,
      "outputs": [
        {
          "output_type": "stream",
          "name": "stdout",
          "text": [
            "Welcome to the QR Code Encoder/Decoder!\n",
            "Do you want to generate (g) or decode (d) a QR Code? (g/d): g\n",
            "Enter the data to encode in the QR Code: Hello World\n",
            "QR Code saved as qrcode.png\n"
          ]
        },
        {
          "output_type": "display_data",
          "data": {
            "image/png": "[encoded data removed]",
            "text/plain": [
              "<IPython.core.display.Image object>"
            ]
          },
          "metadata": {}
        }
      ]
    }
  ]
}
