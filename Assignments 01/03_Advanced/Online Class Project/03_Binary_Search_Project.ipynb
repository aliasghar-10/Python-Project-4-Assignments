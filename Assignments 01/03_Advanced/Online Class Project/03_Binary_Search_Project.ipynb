{
  "nbformat": 4,
  "nbformat_minor": 0,
  "metadata": {
    "colab": {
      "provenance": [],
      "authorship_tag": "ABX9TyOGSQa/2AdtRUVDBxNaMDio",
      "include_colab_link": true
    },
    "kernelspec": {
      "name": "python3",
      "display_name": "Python 3"
    },
    "language_info": {
      "name": "python"
    }
  },
  "cells": [
    {
      "cell_type": "markdown",
      "metadata": {
        "id": "view-in-github",
        "colab_type": "text"
      },
      "source": [
        "<a href=\"https://colab.research.google.com/github/aliasghar-10/Python-Project-4-Assignments/blob/main/Assignments%2001/03_Advanced/Online%20Class%20Project/03_Binary_Search_Project.ipynb\" target=\"_parent\"><img src=\"https://colab.research.google.com/assets/colab-badge.svg\" alt=\"Open In Colab\"/></a>"
      ]
    },
    {
      "cell_type": "markdown",
      "source": [
        "# **Binary Search Project**"
      ],
      "metadata": {
        "id": "HkdP2Ym0yOGN"
      }
    },
    {
      "cell_type": "code",
      "source": [
        "def binary_search(arr, target):\n",
        "    \"\"\"Perform binary search on a sorted array.\"\"\"\n",
        "    left, right = 0, len(arr) - 1\n",
        "\n",
        "    while left <= right:\n",
        "        mid = (left + right) // 2\n",
        "\n",
        "        # Check if the middle element is the target\n",
        "        if arr[mid] == target:\n",
        "            return mid\n",
        "\n",
        "        # If target is smaller, ignore the right half\n",
        "        elif arr[mid] > target:\n",
        "            right = mid - 1\n",
        "\n",
        "        # If target is larger, ignore the left half\n",
        "        else:\n",
        "            left = mid + 1\n",
        "\n",
        "    # If the loop ends, the element is not in the array\n",
        "    return -1\n",
        "\n",
        "\n",
        "def main():\n",
        "    \"\"\"Main function to execute the binary search project.\"\"\"\n",
        "    print(\"Welcome to the Binary Search Project!\")\n",
        "\n",
        "    # Take input for the array (can be unsorted)\n",
        "    try:\n",
        "        array = list(map(int, input(\"Enter an array (comma-separated): \").split(\",\")))\n",
        "    except ValueError:\n",
        "        print(\"Please enter integers only.\")\n",
        "        return\n",
        "\n",
        "    # Sort the array to ensure binary search works\n",
        "    array.sort()\n",
        "    print(f\"Sorted array: {array}\")\n",
        "\n",
        "    # Take input for the target value\n",
        "    try:\n",
        "        target = int(input(\"Enter the target value to search: \"))\n",
        "    except ValueError:\n",
        "        print(\"Please enter a valid integer for the target value.\")\n",
        "        return\n",
        "\n",
        "    # Perform binary search\n",
        "    result = binary_search(array, target)\n",
        "\n",
        "    # Print the result\n",
        "    if result != -1:\n",
        "        print(f\"Target found at index {result} in the sorted array.\")\n",
        "    else:\n",
        "        print(\"Target not found in the array.\")\n",
        "\n",
        "\n",
        "# Run the main function\n",
        "if __name__ == \"__main__\":\n",
        "    main()\n"
      ],
      "metadata": {
        "colab": {
          "base_uri": "https://localhost:8080/"
        },
        "id": "lX-UKNx3ycI4",
        "outputId": "def08c1b-d803-49f1-a6b2-5099f6110f30"
      },
      "execution_count": 6,
      "outputs": [
        {
          "output_type": "stream",
          "name": "stdout",
          "text": [
            "Welcome to the Binary Search Project!\n",
            "Enter an array (comma-separated): 10, 20,30,40,50,60,70,80,90,100\n",
            "Sorted array: [10, 20, 30, 40, 50, 60, 70, 80, 90, 100]\n",
            "Enter the target value to search: 50\n",
            "Target found at index 4 in the sorted array.\n"
          ]
        }
      ]
    }
  ]
}