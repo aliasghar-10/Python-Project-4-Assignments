{
  "nbformat": 4,
  "nbformat_minor": 0,
  "metadata": {
    "colab": {
      "provenance": [],
      "authorship_tag": "ABX9TyPsnpziOIYo6fBuEnCotoiJ",
      "include_colab_link": true
    },
    "kernelspec": {
      "name": "python3",
      "display_name": "Python 3"
    },
    "language_info": {
      "name": "python"
    }
  },
  "cells": [
    {
      "cell_type": "markdown",
      "metadata": {
        "id": "view-in-github",
        "colab_type": "text"
      },
      "source": [
        "<a href=\"https://colab.research.google.com/github/aliasghar-10/Python-Project-4-Assignments/blob/main/Assignments%2001/03_Advanced/Online%20Class%20Project/04_Bulk_File_Re_namer_Project.ipynb\" target=\"_parent\"><img src=\"https://colab.research.google.com/assets/colab-badge.svg\" alt=\"Open In Colab\"/></a>"
      ]
    },
    {
      "cell_type": "markdown",
      "source": [
        "# **Bulk File Re-namer Project**"
      ],
      "metadata": {
        "id": "UpPySURjz8i3"
      }
    },
    {
      "cell_type": "code",
      "source": [
        "import os\n",
        "\n",
        "def rename_files(directory, prefix):\n",
        "    \"\"\"Renames all files in the specified directory with the given prefix.\"\"\"\n",
        "    try:\n",
        "        # Get the list of all files in the directory\n",
        "        files = os.listdir(directory)\n",
        "        print(f\"Found {len(files)} file(s) in the directory: {directory}\")\n",
        "\n",
        "        for index, file in enumerate(files):\n",
        "            # Build the new file name\n",
        "            file_extension = os.path.splitext(file)[1]  # Extract file extension\n",
        "            new_name = f\"{prefix}_{index + 1}{file_extension}\"\n",
        "\n",
        "            # Get full file paths\n",
        "            old_file_path = os.path.join(directory, file)\n",
        "            new_file_path = os.path.join(directory, new_name)\n",
        "\n",
        "            # Rename the file\n",
        "            os.rename(old_file_path, new_file_path)\n",
        "            print(f\"Renamed: {file} -> {new_name}\")\n",
        "\n",
        "        print(\"\\nAll files have been renamed successfully!\")\n",
        "    except Exception as e:\n",
        "        print(f\"An error occurred: {e}\")\n",
        "\n",
        "\n",
        "def main():\n",
        "    \"\"\"Main function for bulk file renaming.\"\"\"\n",
        "    print(\"Welcome to the Bulk File Re-namer Project!\")\n",
        "\n",
        "    # Take input for the directory containing files\n",
        "    directory = input(\"Enter the path to the directory containing files: \").strip()\n",
        "\n",
        "    # Check if the directory exists\n",
        "    if not os.path.isdir(directory):\n",
        "        print(\"Invalid directory path. Please try again.\")\n",
        "        return\n",
        "\n",
        "    # Take input for the prefix\n",
        "    prefix = input(\"Enter the prefix for the renamed files: \").strip()\n",
        "\n",
        "    # Call the rename_files function\n",
        "    rename_files(directory, prefix)\n",
        "\n",
        "\n",
        "if __name__ == \"__main__\":\n",
        "    main()\n"
      ],
      "metadata": {
        "colab": {
          "base_uri": "https://localhost:8080/"
        },
        "id": "m7Yk81Wh0DC_",
        "outputId": "d271c676-fd1b-405a-9545-7b3757ea8c47"
      },
      "execution_count": 1,
      "outputs": [
        {
          "output_type": "stream",
          "name": "stdout",
          "text": [
            "Welcome to the Bulk File Re-namer Project!\n",
            "Enter the path to the directory containing files: Download/dragon\n",
            "Invalid directory path. Please try again.\n"
          ]
        }
      ]
    }
  ]
}