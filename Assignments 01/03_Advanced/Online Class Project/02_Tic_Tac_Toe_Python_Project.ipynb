{
  "nbformat": 4,
  "nbformat_minor": 0,
  "metadata": {
    "colab": {
      "provenance": [],
      "authorship_tag": "ABX9TyNK5F/oupPsvuJvaX4AzjR4",
      "include_colab_link": true
    },
    "kernelspec": {
      "name": "python3",
      "display_name": "Python 3"
    },
    "language_info": {
      "name": "python"
    }
  },
  "cells": [
    {
      "cell_type": "markdown",
      "metadata": {
        "id": "view-in-github",
        "colab_type": "text"
      },
      "source": [
        "<a href=\"https://colab.research.google.com/github/aliasghar-10/Python-Project-4-Assignments/blob/main/Assignments%2001/03_Advanced/Online%20Class%20Project/02_Tic_Tac_Toe_Python_Project.ipynb\" target=\"_parent\"><img src=\"https://colab.research.google.com/assets/colab-badge.svg\" alt=\"Open In Colab\"/></a>"
      ]
    },
    {
      "cell_type": "markdown",
      "source": [
        "# **Tic Tac Toe Python Project**"
      ],
      "metadata": {
        "id": "wk_9oQLUwsS_"
      }
    },
    {
      "cell_type": "code",
      "source": [
        "def print_board(board):\n",
        "    \"\"\"Game board print function.\"\"\"\n",
        "    print(\"\\n\")\n",
        "    for row in board:\n",
        "        print(\" | \".join(row))\n",
        "        print(\"-\" * 9)\n",
        "\n",
        "\n",
        "def check_winner(board):\n",
        "    \"\"\"Check if there's a winner.\"\"\"\n",
        "    # Check rows, columns, and diagonals\n",
        "    for row in board:\n",
        "        if row[0] == row[1] == row[2] and row[0] != \" \":\n",
        "            return row[0]\n",
        "\n",
        "    for col in range(3):\n",
        "        if board[0][col] == board[1][col] == board[2][col] and board[0][col] != \" \":\n",
        "            return board[0][col]\n",
        "\n",
        "    if board[0][0] == board[1][1] == board[2][2] and board[0][0] != \" \":\n",
        "        return board[0][0]\n",
        "\n",
        "    if board[0][2] == board[1][1] == board[2][0] and board[0][2] != \" \":\n",
        "        return board[0][2]\n",
        "\n",
        "    return None\n",
        "\n",
        "\n",
        "def is_draw(board):\n",
        "    \"\"\"Check if the game is a draw.\"\"\"\n",
        "    for row in board:\n",
        "        if \" \" in row:\n",
        "            return False\n",
        "    return True\n",
        "\n",
        "\n",
        "def tic_tac_toe():\n",
        "    \"\"\"Main game function.\"\"\"\n",
        "    # Initialize the board\n",
        "    board = [[\" \" for _ in range(3)] for _ in range(3)]\n",
        "    players = [\"X\", \"O\"]\n",
        "    current_player = 0  # Index of the current player\n",
        "\n",
        "    print(\"Welcome to Tic-Tac-Toe!\")\n",
        "    print_board(board)\n",
        "\n",
        "    while True:\n",
        "        print(f\"\\nPlayer {players[current_player]}'s turn:\")\n",
        "        try:\n",
        "            row = int(input(\"Enter row (0, 1, or 2): \"))\n",
        "            col = int(input(\"Enter column (0, 1, or 2): \"))\n",
        "            if board[row][col] == \" \":\n",
        "                board[row][col] = players[current_player]\n",
        "                print_board(board)\n",
        "\n",
        "                winner = check_winner(board)\n",
        "                if winner:\n",
        "                    print(f\"Player {winner} wins!\")\n",
        "                    break\n",
        "\n",
        "                if is_draw(board):\n",
        "                    print(\"It's a draw!\")\n",
        "                    break\n",
        "\n",
        "                current_player = 1 - current_player  # Switch player\n",
        "            else:\n",
        "                print(\"This spot is already taken. Try again.\")\n",
        "        except (ValueError, IndexError):\n",
        "            print(\"Invalid input. Please enter numbers between 0 and 2.\")\n",
        "\n",
        "# Run the game\n",
        "tic_tac_toe()\n"
      ],
      "metadata": {
        "colab": {
          "base_uri": "https://localhost:8080/"
        },
        "id": "ZMezwsPfwtmH",
        "outputId": "9ab26273-a026-4507-b712-b5ce9a16bc30"
      },
      "execution_count": null,
      "outputs": [
        {
          "output_type": "stream",
          "name": "stdout",
          "text": [
            "Welcome to Tic-Tac-Toe!\n",
            "\n",
            "\n",
            "  |   |  \n",
            "---------\n",
            "  |   |  \n",
            "---------\n",
            "  |   |  \n",
            "---------\n",
            "\n",
            "Player X's turn:\n",
            "Enter row (0, 1, or 2): 0\n",
            "Enter column (0, 1, or 2): 1\n",
            "\n",
            "\n",
            "  | X |  \n",
            "---------\n",
            "  |   |  \n",
            "---------\n",
            "  |   |  \n",
            "---------\n",
            "\n",
            "Player O's turn:\n"
          ]
        }
      ]
    }
  ]
}