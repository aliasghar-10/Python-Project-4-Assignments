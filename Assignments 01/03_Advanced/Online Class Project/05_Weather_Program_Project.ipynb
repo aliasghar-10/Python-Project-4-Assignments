{
  "nbformat": 4,
  "nbformat_minor": 0,
  "metadata": {
    "colab": {
      "provenance": [],
      "authorship_tag": "ABX9TyPCgWqh9JCWrcILhL3ywtuZ",
      "include_colab_link": true
    },
    "kernelspec": {
      "name": "python3",
      "display_name": "Python 3"
    },
    "language_info": {
      "name": "python"
    }
  },
  "cells": [
    {
      "cell_type": "markdown",
      "metadata": {
        "id": "view-in-github",
        "colab_type": "text"
      },
      "source": [
        "<a href=\"https://colab.research.google.com/github/aliasghar-10/Python-Project-4-Assignments/blob/main/Assignments%2001/03_Advanced/Online%20Class%20Project/05_Weather_Program_Project.ipynb\" target=\"_parent\"><img src=\"https://colab.research.google.com/assets/colab-badge.svg\" alt=\"Open In Colab\"/></a>"
      ]
    },
    {
      "cell_type": "markdown",
      "source": [
        "# **Weather Program Project**\n"
      ],
      "metadata": {
        "id": "hZtZYdwAWdjk"
      }
    },
    {
      "cell_type": "code",
      "source": [
        "import requests\n",
        "\n",
        "# Function to fetch weather data\n",
        "def get_weather_data(city, api_key):\n",
        "    base_url = \"https://api.openweathermap.org/data/2.5/weather\"\n",
        "    params = {\n",
        "        \"q\": city,\n",
        "        \"appid\": api_key,\n",
        "        \"units\": \"metric\"  # Celsius temperature\n",
        "    }\n",
        "\n",
        "    response = requests.get(base_url, params=params)\n",
        "\n",
        "    if response.status_code == 200:\n",
        "        data = response.json()\n",
        "        city_name = data[\"name\"]\n",
        "        temperature = data[\"main\"][\"temp\"]\n",
        "        weather_desc = data[\"weather\"][0][\"description\"]\n",
        "        humidity = data[\"main\"][\"humidity\"]\n",
        "        wind_speed = data[\"wind\"][\"speed\"]\n",
        "\n",
        "        print(f\"\\nWeather in {city_name}:\")\n",
        "        print(f\"Temperature: {temperature}°C\")\n",
        "        print(f\"Description: {weather_desc.capitalize()}\")\n",
        "        print(f\"Humidity: {humidity}%\")\n",
        "        print(f\"Wind Speed: {wind_speed} m/s\\n\")\n",
        "    else:\n",
        "        print(f\"\\nCould not fetch weather data for '{city}'. Check city name or API key.\\n\")\n",
        "\n",
        "# Main function for Google Colab\n",
        "def main():\n",
        "    print(\"Welcome to the Weather Program in Google Colab!\")\n",
        "\n",
        "    api_key = \"4b791c1c7a1e68e1ab4396e41b592837\"  # Replace with your OpenWeatherMap API key\n",
        "\n",
        "    while True:\n",
        "        city = input(\"Enter the city name (or type 'exit' to quit): \")\n",
        "        if city.lower() == 'exit':\n",
        "            print(\"Goodbye! Thank you for using the Weather Program.\")\n",
        "            break\n",
        "        get_weather_data(city, api_key)\n",
        "\n",
        "# Run the main function\n",
        "if __name__ == \"__main__\":\n",
        "    main()\n"
      ],
      "metadata": {
        "colab": {
          "base_uri": "https://localhost:8080/"
        },
        "id": "YuW9fVJzWeQE",
        "outputId": "8d967e0d-5ca6-49d2-de42-b135a6394cc2"
      },
      "execution_count": null,
      "outputs": [
        {
          "output_type": "stream",
          "name": "stdout",
          "text": [
            "Welcome to the Weather Program in Google Colab!\n",
            "Enter the city name (or type 'exit' to quit): karachi\n",
            "\n",
            "Weather in Karachi:\n",
            "Temperature: 22.9°C\n",
            "Description: Clear sky\n",
            "Humidity: 73%\n",
            "Wind Speed: 2.57 m/s\n",
            "\n"
          ]
        }
      ]
    }
  ]
}