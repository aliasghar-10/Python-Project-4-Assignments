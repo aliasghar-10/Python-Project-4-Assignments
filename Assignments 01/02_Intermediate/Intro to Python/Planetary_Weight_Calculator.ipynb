{
  "nbformat": 4,
  "nbformat_minor": 0,
  "metadata": {
    "colab": {
      "provenance": [],
      "authorship_tag": "ABX9TyOqK4nzUQiktnYxlatqFHc8",
      "include_colab_link": true
    },
    "kernelspec": {
      "name": "python3",
      "display_name": "Python 3"
    },
    "language_info": {
      "name": "python"
    }
  },
  "cells": [
    {
      "cell_type": "markdown",
      "metadata": {
        "id": "view-in-github",
        "colab_type": "text"
      },
      "source": [
        "<a href=\"https://colab.research.google.com/github/aliasghar-10/Python-Project-4-Assignments/blob/main/Assignments%2001/02_Intermediate/Intro%20to%20Python/Planetary_Weight_Calculator.ipynb\" target=\"_parent\"><img src=\"https://colab.research.google.com/assets/colab-badge.svg\" alt=\"Open In Colab\"/></a>"
      ]
    },
    {
      "cell_type": "markdown",
      "source": [
        "# **Planetary Weight Calculator Project**"
      ],
      "metadata": {
        "id": "1y1nxbIdzG4z"
      }
    },
    {
      "cell_type": "code",
      "source": [
        "# Gravitational constants for planets\n",
        "MERCURY_GRAVITY = 0.376\n",
        "VENUS_GRAVITY = 0.889\n",
        "MARS_GRAVITY = 0.378\n",
        "JUPITER_GRAVITY = 2.36\n",
        "SATURN_GRAVITY = 1.081\n",
        "URANUS_GRAVITY = 0.815\n",
        "NEPTUNE_GRAVITY = 1.14\n",
        "\n",
        "def main():\n",
        "    # Step 1: Get user inputs\n",
        "    earth_weight = float(input(\"Enter your weight on Earth: \"))\n",
        "    planet = input(\"Enter a planet: \")\n",
        "\n",
        "    # Step 2: Determine the gravitational constant for the selected planet\n",
        "    if planet == \"Mercury\":\n",
        "        gravity_constant = MERCURY_GRAVITY\n",
        "    elif planet == \"Venus\":\n",
        "        gravity_constant = VENUS_GRAVITY\n",
        "    elif planet == \"Mars\":\n",
        "        gravity_constant = MARS_GRAVITY\n",
        "    elif planet == \"Jupiter\":\n",
        "        gravity_constant = JUPITER_GRAVITY\n",
        "    elif planet == \"Saturn\":\n",
        "        gravity_constant = SATURN_GRAVITY\n",
        "    elif planet == \"Uranus\":\n",
        "        gravity_constant = URANUS_GRAVITY\n",
        "    elif planet == \"Neptune\":\n",
        "        gravity_constant = NEPTUNE_GRAVITY\n",
        "    else:\n",
        "        print(\"Invalid planet name. Please try again!\")\n",
        "        return\n",
        "\n",
        "    # Step 3: Calculate the equivalent weight on the selected planet\n",
        "    planetary_weight = earth_weight * gravity_constant\n",
        "    rounded_weight = round(planetary_weight, 2)\n",
        "\n",
        "    # Step 4: Print the result\n",
        "    print(f\"The equivalent weight on {planet} is: {rounded_weight}\")\n",
        "\n",
        "if __name__ == \"__main__\":\n",
        "    main()\n"
      ],
      "metadata": {
        "colab": {
          "base_uri": "https://localhost:8080/"
        },
        "id": "sunmFtS6zHqe",
        "outputId": "810524c2-f53c-4f41-b2d4-a980aba76ba9"
      },
      "execution_count": 1,
      "outputs": [
        {
          "output_type": "stream",
          "name": "stdout",
          "text": [
            "Enter your weight on Earth: 120\n",
            "Enter a planet: Mars\n",
            "The equivalent weight on Mars is: 45.36\n"
          ]
        }
      ]
    }
  ]
}