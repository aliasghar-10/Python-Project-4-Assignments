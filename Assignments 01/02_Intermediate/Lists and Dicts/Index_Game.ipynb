{
  "nbformat": 4,
  "nbformat_minor": 0,
  "metadata": {
    "colab": {
      "provenance": [],
      "authorship_tag": "ABX9TyPquDt1eg9GNIAkY+ExiT0+",
      "include_colab_link": true
    },
    "kernelspec": {
      "name": "python3",
      "display_name": "Python 3"
    },
    "language_info": {
      "name": "python"
    }
  },
  "cells": [
    {
      "cell_type": "markdown",
      "metadata": {
        "id": "view-in-github",
        "colab_type": "text"
      },
      "source": [
        "<a href=\"https://colab.research.google.com/github/aliasghar-10/Python-Project-4-Assignments/blob/main/Assignments%2001/02_Intermediate/Lists%20and%20Dicts/Index_Game.ipynb\" target=\"_parent\"><img src=\"https://colab.research.google.com/assets/colab-badge.svg\" alt=\"Open In Colab\"/></a>"
      ]
    },
    {
      "cell_type": "markdown",
      "source": [
        "# **Index Game Project**"
      ],
      "metadata": {
        "id": "SrwTpCil47E1"
      }
    },
    {
      "cell_type": "code",
      "source": [
        "# List Practice Solution\n",
        "def list_practice():\n",
        "    # Create a list called fruit_list\n",
        "    fruit_lst = ['apple', 'banana', 'orange', 'grape', 'pineapple']\n",
        "\n",
        "    # Print the length of the list\n",
        "    lst_length = len(fruit_lst)\n",
        "    print(f\"Length of the list: {lst_length}\")\n",
        "\n",
        "    # Add 'mango' at the end of the list\n",
        "    fruit_lst.append('mango')\n",
        "\n",
        "    # Print the updated list\n",
        "    print(\"Updated fruit list:\")\n",
        "    for fruit in fruit_lst:\n",
        "        print(fruit)\n",
        "\n",
        "\n",
        "# Index Game Solution\n",
        "def access_element(lst, index):\n",
        "    try:\n",
        "        return lst[index]\n",
        "    except IndexError:\n",
        "        return \"Index out of range.\"\n",
        "\n",
        "def modify_element(lst, index, new_value):\n",
        "    try:\n",
        "        lst[index] = new_value\n",
        "        return lst\n",
        "    except IndexError:\n",
        "        return \"Index out of range.\"\n",
        "\n",
        "def slice_list(lst, start, end):\n",
        "    try:\n",
        "        return lst[start:end]\n",
        "    except IndexError:\n",
        "        return \"Invalid indices.\"\n",
        "\n",
        "def index_game():\n",
        "    # Initialize the list\n",
        "    lst = [1, 2, 3, 4, 5]\n",
        "    print(\"Current list:\", lst)\n",
        "\n",
        "    # User selects an operation\n",
        "    print(\"\\nChoose an operation: access, modify, slice\")\n",
        "    operation = input(\"Enter operation: \").lower()\n",
        "\n",
        "    if operation == \"access\":\n",
        "        # Access an element\n",
        "        index = int(input(\"Enter index to access: \"))\n",
        "        print(f\"Accessed element: {access_element(lst, index)}\")\n",
        "    elif operation == \"modify\":\n",
        "        # Modify an element\n",
        "        index = int(input(\"Enter index to modify: \"))\n",
        "        new_value = input(\"Enter new value: \")\n",
        "        updated_list = modify_element(lst, index, new_value)\n",
        "        print(f\"Updated list: {updated_list}\")\n",
        "    elif operation == \"slice\":\n",
        "        # Slice the list\n",
        "        start = int(input(\"Enter start index: \"))\n",
        "        end = int(input(\"Enter end index: \"))\n",
        "        sliced_list = slice_list(lst, start, end)\n",
        "        print(f\"Sliced list: {sliced_list}\")\n",
        "    else:\n",
        "        print(\"Invalid operation selected. Please try again.\")\n",
        "\n",
        "# Main function to run both parts\n",
        "def main():\n",
        "    print(\"Running List Practice:\\n\")\n",
        "    list_practice()\n",
        "    print(\"\\nRunning Index Game:\\n\")\n",
        "    index_game()\n",
        "\n",
        "if __name__ == \"__main__\":\n",
        "    main()\n"
      ],
      "metadata": {
        "colab": {
          "base_uri": "https://localhost:8080/"
        },
        "id": "hWGXGSIB47th",
        "outputId": "a71e68fe-4691-4320-81d2-48b4f4ad258e"
      },
      "execution_count": 3,
      "outputs": [
        {
          "output_type": "stream",
          "name": "stdout",
          "text": [
            "Running List Practice:\n",
            "\n",
            "Length of the list: 5\n",
            "Updated fruit list:\n",
            "apple\n",
            "banana\n",
            "orange\n",
            "grape\n",
            "pineapple\n",
            "mango\n",
            "\n",
            "Running Index Game:\n",
            "\n",
            "Current list: [1, 2, 3, 4, 5]\n",
            "\n",
            "Choose an operation: access, modify, slice\n",
            "Enter operation: access\n",
            "Enter index to access: 3\n",
            "Accessed element: 4\n"
          ]
        }
      ]
    }
  ]
}