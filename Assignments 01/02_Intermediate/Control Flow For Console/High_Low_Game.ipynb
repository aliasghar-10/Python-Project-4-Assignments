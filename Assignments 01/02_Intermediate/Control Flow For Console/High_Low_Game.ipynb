{
  "nbformat": 4,
  "nbformat_minor": 0,
  "metadata": {
    "colab": {
      "provenance": [],
      "authorship_tag": "ABX9TyM+hT+wO1tqSk5bvRIZsrma",
      "include_colab_link": true
    },
    "kernelspec": {
      "name": "python3",
      "display_name": "Python 3"
    },
    "language_info": {
      "name": "python"
    }
  },
  "cells": [
    {
      "cell_type": "markdown",
      "metadata": {
        "id": "view-in-github",
        "colab_type": "text"
      },
      "source": [
        "<a href=\"https://colab.research.google.com/github/aliasghar-10/Python-Project-4-Assignments/blob/main/Assignments%2001/02_Intermediate/Control%20Flow%20For%20Console/High_Low_Game.ipynb\" target=\"_parent\"><img src=\"https://colab.research.google.com/assets/colab-badge.svg\" alt=\"Open In Colab\"/></a>"
      ]
    },
    {
      "cell_type": "markdown",
      "source": [
        "# **High-Low Game Project**"
      ],
      "metadata": {
        "id": "rHXOVao_qrnY"
      }
    },
    {
      "cell_type": "code",
      "source": [
        "import random\n",
        "\n",
        "NUM_ROUNDS = 5\n",
        "\n",
        "def main():\n",
        "    print(\"Welcome to the High-Low Game!\")\n",
        "    print('--------------------------------')\n",
        "\n",
        "    your_score = 0  # Initialize score\n",
        "\n",
        "    for i in range(NUM_ROUNDS):\n",
        "        print(\"Round\", i + 1)\n",
        "        computer_num = random.randint(1, 100)\n",
        "        your_num = random.randint(1, 100)\n",
        "        print(\"Your number is\", your_num)\n",
        "\n",
        "        choice = input(\"Do you think your number is higher or lower than the computer's?: \")\n",
        "\n",
        "        # Extension 1: Validate input\n",
        "        while choice != \"higher\" and choice != \"lower\":\n",
        "            choice = input(\"Please enter either higher or lower: \")\n",
        "\n",
        "        # Check if user's guess is correct\n",
        "        higher_and_correct = choice == \"higher\" and your_num > computer_num\n",
        "        lower_and_correct = choice == \"lower\" and your_num < computer_num\n",
        "\n",
        "        if higher_and_correct or lower_and_correct:\n",
        "            print(\"You were right! The computer's number was\", computer_num)\n",
        "            your_score += 1\n",
        "        else:\n",
        "            print(\"Aww, that's incorrect. The computer's number was\", computer_num)\n",
        "\n",
        "        print(\"Your score is now\", your_score)\n",
        "        print()\n",
        "\n",
        "    # Conditional ending messages\n",
        "    print(\"Your final score is\", your_score)\n",
        "\n",
        "    if your_score == NUM_ROUNDS:\n",
        "        print(\"Wow! You played perfectly!\")\n",
        "    elif your_score > NUM_ROUNDS // 2:\n",
        "        print(\"Good job, you played really well!\")\n",
        "    else:\n",
        "        print(\"Better luck next time!\")\n",
        "\n",
        "if __name__ == \"__main__\":\n",
        "    main()\n"
      ],
      "metadata": {
        "colab": {
          "base_uri": "https://localhost:8080/"
        },
        "id": "Tc7_AuvduG9D",
        "outputId": "f7241da3-60aa-4b61-f17a-0a674e3ed16f"
      },
      "execution_count": 2,
      "outputs": [
        {
          "output_type": "stream",
          "name": "stdout",
          "text": [
            "Welcome to the High-Low Game!\n",
            "--------------------------------\n",
            "Round 1\n",
            "Your number is 81\n",
            "Do you think your number is higher or lower than the computer's?: higher\n",
            "You were right! The computer's number was 61\n",
            "Your score is now 1\n",
            "\n",
            "Round 2\n",
            "Your number is 93\n",
            "Do you think your number is higher or lower than the computer's?: higher\n",
            "Aww, that's incorrect. The computer's number was 98\n",
            "Your score is now 1\n",
            "\n",
            "Round 3\n",
            "Your number is 97\n",
            "Do you think your number is higher or lower than the computer's?: higher\n",
            "You were right! The computer's number was 94\n",
            "Your score is now 2\n",
            "\n",
            "Round 4\n",
            "Your number is 86\n",
            "Do you think your number is higher or lower than the computer's?: lower\n",
            "Aww, that's incorrect. The computer's number was 26\n",
            "Your score is now 2\n",
            "\n",
            "Round 5\n",
            "Your number is 64\n",
            "Do you think your number is higher or lower than the computer's?: higher\n",
            "You were right! The computer's number was 36\n",
            "Your score is now 3\n",
            "\n",
            "Your final score is 3\n",
            "Good job, you played really well!\n"
          ]
        }
      ]
    }
  ]
}