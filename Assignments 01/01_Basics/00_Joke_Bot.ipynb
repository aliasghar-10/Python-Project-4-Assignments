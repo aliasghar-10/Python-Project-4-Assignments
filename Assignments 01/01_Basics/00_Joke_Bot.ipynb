{
  "nbformat": 4,
  "nbformat_minor": 0,
  "metadata": {
    "colab": {
      "provenance": [],
      "authorship_tag": "ABX9TyNTxJOQTsM56XNnloqVaegk",
      "include_colab_link": true
    },
    "kernelspec": {
      "name": "python3",
      "display_name": "Python 3"
    },
    "language_info": {
      "name": "python"
    }
  },
  "cells": [
    {
      "cell_type": "markdown",
      "metadata": {
        "id": "view-in-github",
        "colab_type": "text"
      },
      "source": [
        "<a href=\"https://colab.research.google.com/github/aliasghar-10/Python-Project-4-Assignments/blob/main/Assignments%2001/01_Basics/00_Joke_Bot.ipynb\" target=\"_parent\"><img src=\"https://colab.research.google.com/assets/colab-badge.svg\" alt=\"Open In Colab\"/></a>"
      ]
    },
    {
      "cell_type": "markdown",
      "source": [
        "# **Joke Bot Porject**"
      ],
      "metadata": {
        "id": "DmSHz7VAkuIZ"
      }
    },
    {
      "cell_type": "code",
      "source": [
        "# Constants for prompt, joke, and sorry message\n",
        "PROMPT: str = \"What do you want? \"\n",
        "JOKE: str = \"\"\"Here is a joke for you!\n",
        "Panaversity GPT - Sophia is heading out to the grocery store.\n",
        "A programmer tells her: get a liter of milk, and if they have eggs, get 12.\n",
        "Sophia returns with 13 liters of milk.\n",
        "The programmer asks why and Sophia replies: 'because they had eggs'\"\"\"\n",
        "SORRY: str = \"Sorry, I only tell jokes.\"\n",
        "\n",
        "def main():\n",
        "    # User input prompt\n",
        "    user_input = input(PROMPT)\n",
        "\n",
        "    # Check user response\n",
        "    if user_input.strip().lower() == \"joke\":  # Match 'Joke' case-insensitively\n",
        "        print(JOKE)\n",
        "    else:\n",
        "        print(SORRY)\n",
        "\n",
        "# Main entry point of the program\n",
        "if __name__ == \"__main__\":\n",
        "    main()\n"
      ],
      "metadata": {
        "colab": {
          "base_uri": "https://localhost:8080/"
        },
        "id": "FiQpL2_4kzkB",
        "outputId": "d9c6c339-8238-4716-a592-a440d7026218"
      },
      "execution_count": 1,
      "outputs": [
        {
          "output_type": "stream",
          "name": "stdout",
          "text": [
            "What do you want? joke\n",
            "Here is a joke for you! \n",
            "Panaversity GPT - Sophia is heading out to the grocery store. \n",
            "A programmer tells her: get a liter of milk, and if they have eggs, get 12. \n",
            "Sophia returns with 13 liters of milk. \n",
            "The programmer asks why and Sophia replies: 'because they had eggs'\n"
          ]
        }
      ]
    }
  ]
}