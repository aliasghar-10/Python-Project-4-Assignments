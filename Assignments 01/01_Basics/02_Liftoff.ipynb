{
  "nbformat": 4,
  "nbformat_minor": 0,
  "metadata": {
    "colab": {
      "provenance": [],
      "authorship_tag": "ABX9TyOrhu6i9LJ1yomTywpKTwEi",
      "include_colab_link": true
    },
    "kernelspec": {
      "name": "python3",
      "display_name": "Python 3"
    },
    "language_info": {
      "name": "python"
    }
  },
  "cells": [
    {
      "cell_type": "markdown",
      "metadata": {
        "id": "view-in-github",
        "colab_type": "text"
      },
      "source": [
        "<a href=\"https://colab.research.google.com/github/aliasghar-10/Python-Project-4-Assignments/blob/main/Assignments%2001/01_Basics/02_Liftoff.ipynb\" target=\"_parent\"><img src=\"https://colab.research.google.com/assets/colab-badge.svg\" alt=\"Open In Colab\"/></a>"
      ]
    },
    {
      "cell_type": "markdown",
      "source": [
        "# **Liftoff Project**"
      ],
      "metadata": {
        "id": "TodPOSHDmTFV"
      }
    },
    {
      "cell_type": "code",
      "source": [
        "def main():\n",
        "    # 10 se 1 tak ke reverse countdown ke liye loop\n",
        "    for i in range(10, 0, -1):  # 10 se start, 1 tak chale, har step par -1\n",
        "        print(i, end=\" \")  # Space ke saath print karte hain\n",
        "\n",
        "    # Countdown ke baad \"Liftoff!\" print karte hain\n",
        "    print(\"Liftoff!\")\n",
        "\n",
        "# Main entry point of the program\n",
        "if __name__ == '__main__':\n",
        "    main()\n"
      ],
      "metadata": {
        "colab": {
          "base_uri": "https://localhost:8080/"
        },
        "id": "hr2siz9fmXq3",
        "outputId": "fcf3c65d-cb55-4396-dcbc-4c036f053693"
      },
      "execution_count": 1,
      "outputs": [
        {
          "output_type": "stream",
          "name": "stdout",
          "text": [
            "10 9 8 7 6 5 4 3 2 1 Liftoff!\n"
          ]
        }
      ]
    }
  ]
}