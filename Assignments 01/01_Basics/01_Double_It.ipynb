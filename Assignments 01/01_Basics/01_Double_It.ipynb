{
  "nbformat": 4,
  "nbformat_minor": 0,
  "metadata": {
    "colab": {
      "provenance": [],
      "authorship_tag": "ABX9TyP1Hn176ypw4nEYyszmepq5",
      "include_colab_link": true
    },
    "kernelspec": {
      "name": "python3",
      "display_name": "Python 3"
    },
    "language_info": {
      "name": "python"
    }
  },
  "cells": [
    {
      "cell_type": "markdown",
      "metadata": {
        "id": "view-in-github",
        "colab_type": "text"
      },
      "source": [
        "<a href=\"https://colab.research.google.com/github/aliasghar-10/Python-Project-4-Assignments/blob/main/Assignments%2001/01_Basics/01_Double_It.ipynb\" target=\"_parent\"><img src=\"https://colab.research.google.com/assets/colab-badge.svg\" alt=\"Open In Colab\"/></a>"
      ]
    },
    {
      "cell_type": "markdown",
      "source": [
        "# **Double It Project**"
      ],
      "metadata": {
        "id": "4Oc6TD39ls1Y"
      }
    },
    {
      "cell_type": "code",
      "source": [
        "def main():\n",
        "    # User se ek number input lete hain\n",
        "    curr_value = int(input(\"Enter a number: \"))\n",
        "\n",
        "    # Jab tak curr_value 100 se chhoti hai, tab tak loop chalta rahega\n",
        "    while curr_value < 100:\n",
        "        # Current value ko double karke print karte hain\n",
        "        curr_value = curr_value * 2\n",
        "        print(curr_value)\n",
        "\n",
        "# Main entry point of the program\n",
        "if __name__ == '__main__':\n",
        "    main()\n"
      ],
      "metadata": {
        "colab": {
          "base_uri": "https://localhost:8080/"
        },
        "id": "XLwviUe3lzCU",
        "outputId": "38687369-0189-48f3-b10b-1d63882d102c"
      },
      "execution_count": 1,
      "outputs": [
        {
          "output_type": "stream",
          "name": "stdout",
          "text": [
            "Enter a number: 5\n",
            "10\n",
            "20\n",
            "40\n",
            "80\n",
            "160\n"
          ]
        }
      ]
    }
  ]
}