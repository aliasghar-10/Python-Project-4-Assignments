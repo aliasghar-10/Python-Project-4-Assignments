{
  "nbformat": 4,
  "nbformat_minor": 0,
  "metadata": {
    "colab": {
      "provenance": [],
      "authorship_tag": "ABX9TyPY9AVLafqmiqiJqNtFB0Z5",
      "include_colab_link": true
    },
    "kernelspec": {
      "name": "python3",
      "display_name": "Python 3"
    },
    "language_info": {
      "name": "python"
    }
  },
  "cells": [
    {
      "cell_type": "markdown",
      "metadata": {
        "id": "view-in-github",
        "colab_type": "text"
      },
      "source": [
        "<a href=\"https://colab.research.google.com/github/aliasghar-10/Python-Project-4-Assignments/blob/main/Assignments%2001/01_Basics/03_Guess_My_Number.ipynb\" target=\"_parent\"><img src=\"https://colab.research.google.com/assets/colab-badge.svg\" alt=\"Open In Colab\"/></a>"
      ]
    },
    {
      "cell_type": "markdown",
      "source": [
        "# **Guess My Number Project**"
      ],
      "metadata": {
        "id": "9Ogh5YminAJ_"
      }
    },
    {
      "cell_type": "code",
      "source": [
        "import random\n",
        "\n",
        "def main():\n",
        "    # Random number generate karte hain jo 1 aur 99 ke beech hoga\n",
        "    secret_number: int = random.randint(1, 99)\n",
        "\n",
        "    print(\"I am thinking of a number between 1 and 99...\")\n",
        "    # Pehla guess lete hain\n",
        "    guess: int = int(input(\"Enter a guess: \"))\n",
        "\n",
        "    # Jab tak guess secret number se match nahi hota, loop chalate hain\n",
        "    while guess != secret_number:\n",
        "        if guess < secret_number:  # Agar guess chhota ho\n",
        "            print(\"Your guess is too low\")\n",
        "        else:  # Agar guess bada ho\n",
        "            print(\"Your guess is too high\")\n",
        "\n",
        "        print()  # Console ko thoda clean rakhne ke liye ek empty line\n",
        "        guess: int = int(input(\"Enter a new guess: \"))  # Naya guess input lete hain\n",
        "\n",
        "    # Jab guess sahi ho jaye\n",
        "    print(\"Congrats! The number was: \" + str(secret_number))\n",
        "\n",
        "if __name__ == '__main__':\n",
        "    main()\n"
      ],
      "metadata": {
        "colab": {
          "base_uri": "https://localhost:8080/"
        },
        "id": "9qw6LvaMnUMi",
        "outputId": "4e911bca-c5c0-462c-9418-6f4ba01864e7"
      },
      "execution_count": 2,
      "outputs": [
        {
          "output_type": "stream",
          "name": "stdout",
          "text": [
            "I am thinking of a number between 1 and 99...\n",
            "(The Secret number is 95)\n",
            "Enter a guess: 78\n",
            "Your guess is too low\n",
            "\n",
            "Enter a new guess: 99\n",
            "Your guess is too high\n",
            "\n",
            "Enter a new guess: 45\n",
            "Your guess is too low\n",
            "\n",
            "Enter a new guess: 95\n",
            "Congrats! The number was: 95\n"
          ]
        }
      ]
    }
  ]
}