{
  "nbformat": 4,
  "nbformat_minor": 0,
  "metadata": {
    "colab": {
      "provenance": [],
      "authorship_tag": "ABX9TyMz/1aPciHiE3yIlWEHGWYO",
      "include_colab_link": true
    },
    "kernelspec": {
      "name": "python3",
      "display_name": "Python 3"
    },
    "language_info": {
      "name": "python"
    }
  },
  "cells": [
    {
      "cell_type": "markdown",
      "metadata": {
        "id": "view-in-github",
        "colab_type": "text"
      },
      "source": [
        "<a href=\"https://colab.research.google.com/github/aliasghar-10/Python-Project-4-Assignments/blob/main/Assignments%2000%20to%2005/05_Loops_Control_Flow/00_Guess_My_Number.ipynb\" target=\"_parent\"><img src=\"https://colab.research.google.com/assets/colab-badge.svg\" alt=\"Open In Colab\"/></a>"
      ]
    },
    {
      "cell_type": "markdown",
      "source": [
        "# **Guess My Number Project**"
      ],
      "metadata": {
        "id": "9vj-Dus6iMV9"
      }
    },
    {
      "cell_type": "code",
      "source": [
        "import random\n",
        "\n",
        "def main():\n",
        "    # Generate a random number between 1 and 99\n",
        "    secret_number = random.randint(1, 99)  # Make sure it's between 1 and 99\n",
        "    print(\"I am thinking of a number between 1 and 99. Can you guess it?\")\n",
        "    print(f\"(The Secret number is {secret_number})\")  # Debugging helper (optional)\n",
        "\n",
        "    # Initialize the guess count\n",
        "    guess_count = 0\n",
        "\n",
        "    # Start the guessing loop\n",
        "    while True:\n",
        "        try:\n",
        "            # User input\n",
        "            guess = int(input(\"Enter your guess: \"))\n",
        "            guess_count += 1  # Increment guess count\n",
        "\n",
        "            # Check the guess against the secret number\n",
        "            if guess < secret_number:\n",
        "                print(\"Your guess is too low!\")\n",
        "            elif guess > secret_number:\n",
        "                print(\"Your guess is too high!\")\n",
        "            else:\n",
        "                print(f\"Congrats! The number was {secret_number}.\")\n",
        "                print(f\"You guessed it in {guess_count} tries.\")\n",
        "                break  # Exit the loop when guessed correctly\n",
        "\n",
        "        except ValueError:\n",
        "            # Handle invalid input\n",
        "            print(\"Invalid input! Please enter a valid integer.\")\n",
        "\n",
        "if __name__ == \"__main__\":\n",
        "    main()\n"
      ],
      "metadata": {
        "colab": {
          "base_uri": "https://localhost:8080/"
        },
        "id": "3XW1iUzDicGc",
        "outputId": "a1e6cea8-d079-4a2c-a480-6ef852b2bedf"
      },
      "execution_count": 7,
      "outputs": [
        {
          "output_type": "stream",
          "name": "stdout",
          "text": [
            "I am thinking of a number between 1 and 99. Can you guess it?\n",
            "(The Secret number is 73)\n",
            "Enter your guess: 59\n",
            "Your guess is too low!\n",
            "Enter your guess: 89\n",
            "Your guess is too high!\n",
            "Enter your guess: 34\n",
            "Your guess is too low!\n",
            "Enter your guess: 99\n",
            "Your guess is too high!\n",
            "Enter your guess: 10\n",
            "Your guess is too low!\n",
            "Enter your guess: 73\n",
            "Congrats! The number was 73.\n",
            "You guessed it in 6 tries.\n"
          ]
        }
      ]
    }
  ]
}