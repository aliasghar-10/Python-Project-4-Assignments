{
  "nbformat": 4,
  "nbformat_minor": 0,
  "metadata": {
    "colab": {
      "provenance": [],
      "authorship_tag": "ABX9TyOtQGFnru1imTm8X7Ywj1gT",
      "include_colab_link": true
    },
    "kernelspec": {
      "name": "python3",
      "display_name": "Python 3"
    },
    "language_info": {
      "name": "python"
    }
  },
  "cells": [
    {
      "cell_type": "markdown",
      "metadata": {
        "id": "view-in-github",
        "colab_type": "text"
      },
      "source": [
        "<a href=\"https://colab.research.google.com/github/aliasghar-10/Python-Project-4-Assignments/blob/main/Assignments%2000%20to%2005/05_Loops_Control_Flow/03_Wholesome_Machine.ipynb\" target=\"_parent\"><img src=\"https://colab.research.google.com/assets/colab-badge.svg\" alt=\"Open In Colab\"/></a>"
      ]
    },
    {
      "cell_type": "markdown",
      "source": [
        "# **Wholesome Machine Project**"
      ],
      "metadata": {
        "id": "e_TluRQf4MmJ"
      }
    },
    {
      "cell_type": "code",
      "source": [
        "AFFIRMATION = \"I am capable of doing anything I put my mind to.\"\n",
        "\n",
        "def main():\n",
        "    # User ko affirmation type karne ke liye prompt karo\n",
        "    print(\"Please type the following affirmation:\")\n",
        "    print(AFFIRMATION)\n",
        "\n",
        "    # Input lete raho jab tak user sahi type na kare\n",
        "    while True:\n",
        "        user_input = input()  # User input lein\n",
        "        if user_input == AFFIRMATION:\n",
        "            print(\"That's right! :)\")\n",
        "            break  # Loop se exit\n",
        "        else:\n",
        "            print(\"Hmmm, that was not the affirmation.\")\n",
        "            print(\"Please try again:\")\n",
        "            print(AFFIRMATION)\n",
        "\n",
        "# Python boilerplate\n",
        "if __name__ == \"__main__\":\n",
        "    main()\n"
      ],
      "metadata": {
        "colab": {
          "base_uri": "https://localhost:8080/"
        },
        "id": "WPl4UMNd4aIs",
        "outputId": "e360d994-11d5-4528-a01d-da3f0f8ba8b3"
      },
      "execution_count": null,
      "outputs": [
        {
          "output_type": "stream",
          "name": "stdout",
          "text": [
            "Please type the following affirmation:\n",
            "I am capable of doing anything I put my mind to.\n",
            "I am strong and resilient.\n",
            "Hmmm, that was not the affirmation.\n",
            "Please try again:\n",
            "I am capable of doing anything I put my mind to.\n",
            "\n",
            "Hmmm, that was not the affirmation.\n",
            "Please try again:\n",
            "I am capable of doing anything I put my mind to.\n"
          ]
        }
      ]
    }
  ]
}