{
  "nbformat": 4,
  "nbformat_minor": 0,
  "metadata": {
    "colab": {
      "provenance": [],
      "authorship_tag": "ABX9TyM8mmlrgGBMsxny5Cm4xHTI",
      "include_colab_link": true
    },
    "kernelspec": {
      "name": "python3",
      "display_name": "Python 3"
    },
    "language_info": {
      "name": "python"
    }
  },
  "cells": [
    {
      "cell_type": "markdown",
      "metadata": {
        "id": "view-in-github",
        "colab_type": "text"
      },
      "source": [
        "<a href=\"https://colab.research.google.com/github/aliasghar-10/Python-Project-4-Assignments/blob/main/Assignments%2000%20to%2005/05_Loops_Control_Flow/02_Print_Events.ipynb\" target=\"_parent\"><img src=\"https://colab.research.google.com/assets/colab-badge.svg\" alt=\"Open In Colab\"/></a>"
      ]
    },
    {
      "cell_type": "markdown",
      "source": [
        "# **Print Events Project**"
      ],
      "metadata": {
        "id": "Xn-Fpj0u3nA9"
      }
    },
    {
      "cell_type": "code",
      "source": [
        "def main():\n",
        "    # Loop 20 numbers ke liye (0 se 19 tak)\n",
        "    for i in range(20):\n",
        "        # Har number ka double (even number) print karein\n",
        "        print(i * 2, end=\" \")\n",
        "\n",
        "# Python boilerplate\n",
        "if __name__ == \"__main__\":\n",
        "    main()\n"
      ],
      "metadata": {
        "colab": {
          "base_uri": "https://localhost:8080/"
        },
        "id": "KcPYySzf3vZF",
        "outputId": "65f9f92a-439a-4d27-df69-0a576be7178d"
      },
      "execution_count": 1,
      "outputs": [
        {
          "output_type": "stream",
          "name": "stdout",
          "text": [
            "0 2 4 6 8 10 12 14 16 18 20 22 24 26 28 30 32 34 36 38 "
          ]
        }
      ]
    }
  ]
}