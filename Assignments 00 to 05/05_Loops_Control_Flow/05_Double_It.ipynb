{
  "nbformat": 4,
  "nbformat_minor": 0,
  "metadata": {
    "colab": {
      "provenance": [],
      "authorship_tag": "ABX9TyPNc4XBI4SOYyk4uGsShDLu",
      "include_colab_link": true
    },
    "kernelspec": {
      "name": "python3",
      "display_name": "Python 3"
    },
    "language_info": {
      "name": "python"
    }
  },
  "cells": [
    {
      "cell_type": "markdown",
      "metadata": {
        "id": "view-in-github",
        "colab_type": "text"
      },
      "source": [
        "<a href=\"https://colab.research.google.com/github/aliasghar-10/Python-Project-4-Assignments/blob/main/Assignments%2000%20to%2005/05_Loops_Control_Flow/05_Double_It.ipynb\" target=\"_parent\"><img src=\"https://colab.research.google.com/assets/colab-badge.svg\" alt=\"Open In Colab\"/></a>"
      ]
    },
    {
      "cell_type": "markdown",
      "source": [
        "# **Double It Project**"
      ],
      "metadata": {
        "id": "wMrt0RmY5sp3"
      }
    },
    {
      "cell_type": "code",
      "source": [
        "def main():\n",
        "    # User se number input lene ka kehna\n",
        "    curr_value = int(input(\"Enter a number to double: \"))\n",
        "\n",
        "    # Jab tak curr_value 100 se chhota hai, loop chalayenge\n",
        "    while curr_value < 100:\n",
        "        curr_value = curr_value * 2  # Double the value\n",
        "        print(curr_value, end=\" \")  # Saath-saath print karenge with space\n",
        "\n",
        "    print()  # Ek newline for clean output\n",
        "\n",
        "# Python boilerplate\n",
        "if __name__ == \"__main__\":\n",
        "    main()\n"
      ],
      "metadata": {
        "colab": {
          "base_uri": "https://localhost:8080/"
        },
        "id": "oC5uP9pk5zWj",
        "outputId": "ca39c0d9-6175-4793-9d46-065205d94d49"
      },
      "execution_count": 2,
      "outputs": [
        {
          "output_type": "stream",
          "name": "stdout",
          "text": [
            "Enter a number to double: 5\n",
            "10 20 40 80 160 \n"
          ]
        }
      ]
    }
  ]
}