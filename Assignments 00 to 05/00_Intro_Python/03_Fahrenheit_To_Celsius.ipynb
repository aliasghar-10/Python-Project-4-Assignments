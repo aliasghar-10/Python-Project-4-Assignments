{
  "nbformat": 4,
  "nbformat_minor": 0,
  "metadata": {
    "colab": {
      "provenance": [],
      "authorship_tag": "ABX9TyMY9jyvmPGhGaF99bMAwgNs",
      "include_colab_link": true
    },
    "kernelspec": {
      "name": "python3",
      "display_name": "Python 3"
    },
    "language_info": {
      "name": "python"
    }
  },
  "cells": [
    {
      "cell_type": "markdown",
      "metadata": {
        "id": "view-in-github",
        "colab_type": "text"
      },
      "source": [
        "<a href=\"https://colab.research.google.com/github/aliasghar-10/Python-Project-4-Assignments/blob/main/Assignments%2000%20to%2005/00_Intro_Python/Fahrenheit_To_Celsius.ipynb\" target=\"_parent\"><img src=\"https://colab.research.google.com/assets/colab-badge.svg\" alt=\"Open In Colab\"/></a>"
      ]
    },
    {
      "cell_type": "markdown",
      "source": [
        "# **Fahrenheit To Celsius Project**"
      ],
      "metadata": {
        "id": "2B0HhaMJErN4"
      }
    },
    {
      "cell_type": "code",
      "source": [
        "def main():\n",
        "    # Prompt the user to input temperature in Fahrenheit\n",
        "    degrees_fahrenheit = float(input(\"Enter temperature in Fahrenheit: \"))\n",
        "\n",
        "    # Convert Fahrenheit to Celsius using the formula\n",
        "    degrees_celsius = (degrees_fahrenheit - 32) * 5.0 / 9.0\n",
        "\n",
        "    # Display the result\n",
        "    print(f\"Temperature: {degrees_fahrenheit}F = {degrees_celsius}C\")\n",
        "\n",
        "# Call the main function when the script is executed\n",
        "if __name__ == '__main__':\n",
        "    main()\n"
      ],
      "metadata": {
        "colab": {
          "base_uri": "https://localhost:8080/"
        },
        "id": "Ne2S2RjIEtDn",
        "outputId": "44a1f499-6782-4755-d2df-f9ef32329f69"
      },
      "execution_count": 1,
      "outputs": [
        {
          "output_type": "stream",
          "name": "stdout",
          "text": [
            "Enter temperature in Fahrenheit: 42\n",
            "Temperature: 42.0F = 5.555555555555555C\n"
          ]
        }
      ]
    }
  ]
}
