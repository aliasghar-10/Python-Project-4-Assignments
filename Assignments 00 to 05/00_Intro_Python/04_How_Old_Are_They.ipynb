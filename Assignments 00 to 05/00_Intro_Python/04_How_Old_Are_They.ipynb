{
  "nbformat": 4,
  "nbformat_minor": 0,
  "metadata": {
    "colab": {
      "provenance": [],
      "authorship_tag": "ABX9TyOzr7aus5j5BOg2XWnEusrp",
      "include_colab_link": true
    },
    "kernelspec": {
      "name": "python3",
      "display_name": "Python 3"
    },
    "language_info": {
      "name": "python"
    }
  },
  "cells": [
    {
      "cell_type": "markdown",
      "metadata": {
        "id": "view-in-github",
        "colab_type": "text"
      },
      "source": [
        "<a href=\"https://colab.research.google.com/github/aliasghar-10/Python-Project-4-Assignments/blob/main/Assignments%2000%20to%2005/00_Intro_Python/04_How_Old_Are_They.ipynb\" target=\"_parent\"><img src=\"https://colab.research.google.com/assets/colab-badge.svg\" alt=\"Open In Colab\"/></a>"
      ]
    },
    {
      "cell_type": "markdown",
      "source": [
        "# **How Old Are They Project**"
      ],
      "metadata": {
        "id": "h0NNhoBdG99p"
      }
    },
    {
      "cell_type": "code",
      "source": [
        "def main():\n",
        "    # Anton's age is given directly\n",
        "    anton = 21\n",
        "\n",
        "    # Beth is 6 years older than Anton\n",
        "    beth = anton + 6\n",
        "\n",
        "    # Chen is 20 years older than Beth\n",
        "    chen = beth + 20\n",
        "\n",
        "    # Drew's age is the sum of Chen's and Anton's ages\n",
        "    drew = chen + anton\n",
        "\n",
        "    # Ethan's age is the same as Chen's\n",
        "    ethan = chen\n",
        "\n",
        "    # Display everyone's age\n",
        "    print(f\"Anton is {anton}\")\n",
        "    print(f\"Beth is {beth}\")\n",
        "    print(f\"Chen is {chen}\")\n",
        "    print(f\"Drew is {drew}\")\n",
        "    print(f\"Ethan is {ethan}\")\n",
        "\n",
        "# Ensure main() runs when the script is executed\n",
        "if __name__ == '__main__':\n",
        "    main()\n"
      ],
      "metadata": {
        "colab": {
          "base_uri": "https://localhost:8080/"
        },
        "id": "P9_vICH-G-z4",
        "outputId": "8597ab95-343f-44ca-d31e-eab7ed4c4a45"
      },
      "execution_count": 2,
      "outputs": [
        {
          "output_type": "stream",
          "name": "stdout",
          "text": [
            "Anton is 21\n",
            "Beth is 27\n",
            "Chen is 47\n",
            "Drew is 68\n",
            "Ethan is 47\n"
          ]
        }
      ]
    }
  ]
}