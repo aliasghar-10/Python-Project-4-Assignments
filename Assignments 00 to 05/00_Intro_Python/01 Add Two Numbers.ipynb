{
  "nbformat": 4,
  "nbformat_minor": 0,
  "metadata": {
    "colab": {
      "provenance": [],
      "authorship_tag": "ABX9TyO9FnItUGdbT6ILkIvVfp2k",
      "include_colab_link": true
    },
    "kernelspec": {
      "name": "python3",
      "display_name": "Python 3"
    },
    "language_info": {
      "name": "python"
    }
  },
  "cells": [
    {
      "cell_type": "markdown",
      "metadata": {
        "id": "view-in-github",
        "colab_type": "text"
      },
      "source": [
        "<a href=\"https://colab.research.google.com/github/aliasghar-10/Python-Project-4-Assignments/blob/main/Assignments%2000%20to%2005/00_Intro_Python/01%20Add%20Two%20Numbers.ipynb\" target=\"_parent\"><img src=\"https://colab.research.google.com/assets/colab-badge.svg\" alt=\"Open In Colab\"/></a>"
      ]
    },
    {
      "cell_type": "markdown",
      "source": [
        "# **Add Two Number Project**"
      ],
      "metadata": {
        "id": "B6m-JNJP_-II"
      }
    },
    {
      "cell_type": "code",
      "source": [
        "def main():\n",
        "    # Display program purpose\n",
        "    print(\"This program adds two numbers.\")\n",
        "\n",
        "    # Prompt the user for the first number and convert it to an integer\n",
        "    num1 = int(input(\"Enter the first number: \"))\n",
        "\n",
        "    # Prompt the user for the second number and convert it to an integer\n",
        "    num2 = int(input(\"Enter the second number: \"))\n",
        "\n",
        "    # Calculate the total\n",
        "    total = num1 + num2\n",
        "\n",
        "    # Display the result with a clear message\n",
        "    print(f\"The total is: {total}\")\n",
        "\n",
        "# Call the main function when the script runs\n",
        "if __name__ == '__main__':\n",
        "    main()\n"
      ],
      "metadata": {
        "colab": {
          "base_uri": "https://localhost:8080/"
        },
        "id": "SWF_GADSAMRL",
        "outputId": "9421be3f-d72b-4466-f35e-1035d195c776"
      },
      "execution_count": 1,
      "outputs": [
        {
          "output_type": "stream",
          "name": "stdout",
          "text": [
            "This program adds two numbers.\n",
            "Enter the first number: 12\n",
            "Enter the second number: 13\n",
            "The total is: 25\n"
          ]
        }
      ]
    }
  ]
}