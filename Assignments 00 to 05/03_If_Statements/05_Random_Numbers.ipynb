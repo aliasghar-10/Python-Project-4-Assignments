{
  "nbformat": 4,
  "nbformat_minor": 0,
  "metadata": {
    "colab": {
      "provenance": [],
      "authorship_tag": "ABX9TyOdx5AtVyDX8CD0P9W7uhle",
      "include_colab_link": true
    },
    "kernelspec": {
      "name": "python3",
      "display_name": "Python 3"
    },
    "language_info": {
      "name": "python"
    }
  },
  "cells": [
    {
      "cell_type": "markdown",
      "metadata": {
        "id": "view-in-github",
        "colab_type": "text"
      },
      "source": [
        "<a href=\"https://colab.research.google.com/github/aliasghar-10/Python-Project-4-Assignments/blob/main/Assignments%2000%20to%2005/03_If_Statements/05_Random_Numbers.ipynb\" target=\"_parent\"><img src=\"https://colab.research.google.com/assets/colab-badge.svg\" alt=\"Open In Colab\"/></a>"
      ]
    },
    {
      "cell_type": "markdown",
      "source": [
        "# **Random Numbers Project**"
      ],
      "metadata": {
        "id": "vUdBevR0VgMO"
      }
    },
    {
      "cell_type": "code",
      "source": [
        "import random\n",
        "\n",
        "# Constants for the number of random numbers and range\n",
        "N_NUMBERS = 10\n",
        "MIN_VALUE = 1\n",
        "MAX_VALUE = 100\n",
        "\n",
        "def main():\n",
        "    \"\"\"\n",
        "    Generates and prints 10 random numbers between 1 and 100.\n",
        "    \"\"\"\n",
        "    # Generate and print random numbers\n",
        "    for _ in range(N_NUMBERS):\n",
        "        print(random.randint(MIN_VALUE, MAX_VALUE), end=\" \")\n",
        "    print()  # Move to the next line after printing all numbers\n",
        "\n",
        "# Ensure the main function runs when the script is executed\n",
        "if __name__ == \"__main__\":\n",
        "    main()\n"
      ],
      "metadata": {
        "colab": {
          "base_uri": "https://localhost:8080/"
        },
        "id": "DKDVYViyVvZ1",
        "outputId": "6bde8b61-99b7-4a07-f5c8-fd3a84657b8f"
      },
      "execution_count": 2,
      "outputs": [
        {
          "output_type": "stream",
          "name": "stdout",
          "text": [
            "99 58 33 12 20 88 62 12 83 44 \n"
          ]
        }
      ]
    }
  ]
}