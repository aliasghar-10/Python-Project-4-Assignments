{
  "nbformat": 4,
  "nbformat_minor": 0,
  "metadata": {
    "colab": {
      "provenance": [],
      "authorship_tag": "ABX9TyNv1GDKLJqgC52pP/MQEtYu",
      "include_colab_link": true
    },
    "kernelspec": {
      "name": "python3",
      "display_name": "Python 3"
    },
    "language_info": {
      "name": "python"
    }
  },
  "cells": [
    {
      "cell_type": "markdown",
      "metadata": {
        "id": "view-in-github",
        "colab_type": "text"
      },
      "source": [
        "<a href=\"https://colab.research.google.com/github/aliasghar-10/Python-Project-4-Assignments/blob/main/Assignments%2000%20to%2005/03_If_Statements/02_International_Voting_Age.ipynb\" target=\"_parent\"><img src=\"https://colab.research.google.com/assets/colab-badge.svg\" alt=\"Open In Colab\"/></a>"
      ]
    },
    {
      "cell_type": "markdown",
      "source": [
        "# **International Voting Age Project**"
      ],
      "metadata": {
        "id": "5jHTpsoXgL08"
      }
    },
    {
      "cell_type": "code",
      "source": [
        "# Constants for the voting ages in different countries\n",
        "PETURKSBOUIPO_AGE: int = 16\n",
        "STANLAU_AGE: int = 25\n",
        "MAYENGUA_AGE: int = 48\n",
        "\n",
        "def main():\n",
        "    \"\"\"\n",
        "    Prompts the user for their age and checks voting eligibility in three fictional countries.\n",
        "    \"\"\"\n",
        "    # Get the user's age\n",
        "    user_age = int(input(\"How old are you? \"))\n",
        "\n",
        "    # Check eligibility for each country\n",
        "    # Peturksbouipo\n",
        "    if user_age >= PETURKSBOUIPO_AGE:\n",
        "        print(f\"You can vote in Peturksbouipo where the voting age is {PETURKSBOUIPO_AGE}.\")\n",
        "    else:\n",
        "        print(f\"You cannot vote in Peturksbouipo where the voting age is {PETURKSBOUIPO_AGE}.\")\n",
        "\n",
        "    # Stanlau\n",
        "    if user_age >= STANLAU_AGE:\n",
        "        print(f\"You can vote in Stanlau where the voting age is {STANLAU_AGE}.\")\n",
        "    else:\n",
        "        print(f\"You cannot vote in Stanlau where the voting age is {STANLAU_AGE}.\")\n",
        "\n",
        "    # Mayengua\n",
        "    if user_age >= MAYENGUA_AGE:\n",
        "        print(f\"You can vote in Mayengua where the voting age is {MAYENGUA_AGE}.\")\n",
        "    else:\n",
        "        print(f\"You cannot vote in Mayengua where the voting age is {MAYENGUA_AGE}.\")\n",
        "\n",
        "# Ensure the main function runs when the script is executed\n",
        "if __name__ == \"__main__\":\n",
        "    main()\n"
      ],
      "metadata": {
        "colab": {
          "base_uri": "https://localhost:8080/"
        },
        "id": "7bCYf_4tgX6C",
        "outputId": "e1dc9957-cae8-4ee1-a8cc-858fa2a467f9"
      },
      "execution_count": 1,
      "outputs": [
        {
          "output_type": "stream",
          "name": "stdout",
          "text": [
            "How old are you? 18\n",
            "You can vote in Peturksbouipo where the voting age is 16.\n",
            "You cannot vote in Stanlau where the voting age is 25.\n",
            "You cannot vote in Mayengua where the voting age is 48.\n"
          ]
        }
      ]
    }
  ]
}