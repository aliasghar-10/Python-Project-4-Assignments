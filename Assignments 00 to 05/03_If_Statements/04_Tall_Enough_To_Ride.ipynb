{
  "nbformat": 4,
  "nbformat_minor": 0,
  "metadata": {
    "colab": {
      "provenance": [],
      "authorship_tag": "ABX9TyNuKkUG6pOU71IYXHqvnqvE",
      "include_colab_link": true
    },
    "kernelspec": {
      "name": "python3",
      "display_name": "Python 3"
    },
    "language_info": {
      "name": "python"
    }
  },
  "cells": [
    {
      "cell_type": "markdown",
      "metadata": {
        "id": "view-in-github",
        "colab_type": "text"
      },
      "source": [
        "<a href=\"https://colab.research.google.com/github/aliasghar-10/Python-Project-4-Assignments/blob/main/Assignments%2000%20to%2005/03_If_Statements/04_Tall_Enough_To_Ride.ipynb\" target=\"_parent\"><img src=\"https://colab.research.google.com/assets/colab-badge.svg\" alt=\"Open In Colab\"/></a>"
      ]
    },
    {
      "cell_type": "markdown",
      "source": [
        "# **Tall Enough To Ride Project**"
      ],
      "metadata": {
        "id": "3YWuTQ9CT5Jc"
      }
    },
    {
      "cell_type": "code",
      "source": [
        "MINIMUM_HEIGHT = 50\n",
        "\n",
        "def main():\n",
        "    \"\"\"\n",
        "    Continuously checks if the user is tall enough to ride until no input is given.\n",
        "    \"\"\"\n",
        "    while True:\n",
        "        # User input\n",
        "        height_input = input(\"How tall are you? (Press Enter to stop) \")\n",
        "\n",
        "        if not height_input:  # Stop when no input is given\n",
        "            print(\"Goodbye!\")\n",
        "            break\n",
        "\n",
        "        height = float(height_input)\n",
        "\n",
        "        # Check height and provide feedback\n",
        "        if height >= MINIMUM_HEIGHT:\n",
        "            print(\"You're tall enough to ride!\")\n",
        "        else:\n",
        "            print(\"You're not tall enough to ride, but maybe next year!\")\n",
        "\n",
        "if __name__ == \"__main__\":\n",
        "    main()\n"
      ],
      "metadata": {
        "colab": {
          "base_uri": "https://localhost:8080/"
        },
        "id": "wHK8rxztUNxD",
        "outputId": "259eb37e-a8ac-4a41-b861-f1d29ead423b"
      },
      "execution_count": 3,
      "outputs": [
        {
          "output_type": "stream",
          "name": "stdout",
          "text": [
            "How tall are you? (Press Enter to stop) 100\n",
            "You're tall enough to ride!\n",
            "How tall are you? (Press Enter to stop) \n",
            "Goodbye!\n"
          ]
        }
      ]
    }
  ]
}