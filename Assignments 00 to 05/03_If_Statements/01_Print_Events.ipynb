{
  "nbformat": 4,
  "nbformat_minor": 0,
  "metadata": {
    "colab": {
      "provenance": [],
      "authorship_tag": "ABX9TyNBmZdXPGF9vt2Sq3M3y/93",
      "include_colab_link": true
    },
    "kernelspec": {
      "name": "python3",
      "display_name": "Python 3"
    },
    "language_info": {
      "name": "python"
    }
  },
  "cells": [
    {
      "cell_type": "markdown",
      "metadata": {
        "id": "view-in-github",
        "colab_type": "text"
      },
      "source": [
        "<a href=\"https://colab.research.google.com/github/aliasghar-10/Python-Project-4-Assignments/blob/main/Assignments%2000%20to%2005/03_If_Statements/01_Print_Events.ipynb\" target=\"_parent\"><img src=\"https://colab.research.google.com/assets/colab-badge.svg\" alt=\"Open In Colab\"/></a>"
      ]
    },
    {
      "cell_type": "markdown",
      "source": [
        "# **Print Events Project**"
      ],
      "metadata": {
        "id": "Cc-_P13zeyKN"
      }
    },
    {
      "cell_type": "code",
      "source": [
        "def main():\n",
        "    \"\"\"\n",
        "    Prints the first 20 even numbers using a loop.\n",
        "    \"\"\"\n",
        "    print(\"First 20 even numbers:\")\n",
        "    for i in range(20):  # Loop from 0 to 19\n",
        "        print(i * 2, end=\" \")  # Multiply 'i' by 2 and print in the same line with space\n",
        "    print()  # Move to the next line after the loop\n",
        "\n",
        "# Ensure the main function runs when the script is executed\n",
        "if __name__ == \"__main__\":\n",
        "    main()\n"
      ],
      "metadata": {
        "colab": {
          "base_uri": "https://localhost:8080/"
        },
        "id": "tF2GdT1we6ic",
        "outputId": "c6394967-8068-4014-fed7-eee56f9745b4"
      },
      "execution_count": 1,
      "outputs": [
        {
          "output_type": "stream",
          "name": "stdout",
          "text": [
            "First 20 even numbers:\n",
            "0 2 4 6 8 10 12 14 16 18 20 22 24 26 28 30 32 34 36 38 \n"
          ]
        }
      ]
    }
  ]
}