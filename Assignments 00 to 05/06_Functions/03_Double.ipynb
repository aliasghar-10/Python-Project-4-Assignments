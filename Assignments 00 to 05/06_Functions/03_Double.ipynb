{
  "nbformat": 4,
  "nbformat_minor": 0,
  "metadata": {
    "colab": {
      "provenance": [],
      "authorship_tag": "ABX9TyP+czQnQ/IXbxCI5UnDlHMX",
      "include_colab_link": true
    },
    "kernelspec": {
      "name": "python3",
      "display_name": "Python 3"
    },
    "language_info": {
      "name": "python"
    }
  },
  "cells": [
    {
      "cell_type": "markdown",
      "metadata": {
        "id": "view-in-github",
        "colab_type": "text"
      },
      "source": [
        "<a href=\"https://colab.research.google.com/github/aliasghar-10/Python-Project-4-Assignments/blob/main/Assignments%2000%20to%2005/06_Functions/03_Double.ipynb\" target=\"_parent\"><img src=\"https://colab.research.google.com/assets/colab-badge.svg\" alt=\"Open In Colab\"/></a>"
      ]
    },
    {
      "cell_type": "markdown",
      "source": [
        "# **Double Project**"
      ],
      "metadata": {
        "id": "5ugSH3Nn9wNr"
      }
    },
    {
      "cell_type": "code",
      "source": [
        "def double(num):\n",
        "    \"\"\"\n",
        "    Ye function kisi bhi number ko 2 se multiply karke result return karega.\n",
        "    \"\"\"\n",
        "    return num * 2\n",
        "\n",
        "def main():\n",
        "    print(\"Double Calculator Program\")\n",
        "    num = int(input(\"Koi number enter karein: \"))  # User se number input lo\n",
        "    result = double(num)  # Function call karke result calculate karo\n",
        "    print(f\"{num} ka double hai: {result}\")  # Result print karo\n",
        "\n",
        "if __name__ == '__main__':\n",
        "    main()\n"
      ],
      "metadata": {
        "colab": {
          "base_uri": "https://localhost:8080/"
        },
        "id": "VHHw1fiQ91tq",
        "outputId": "3baf1322-dccc-497b-8569-e8a509530b47"
      },
      "execution_count": 1,
      "outputs": [
        {
          "output_type": "stream",
          "name": "stdout",
          "text": [
            "Double Calculator Program\n",
            "Koi number enter karein: 45\n",
            "45 ka double hai: 90\n"
          ]
        }
      ]
    }
  ]
}