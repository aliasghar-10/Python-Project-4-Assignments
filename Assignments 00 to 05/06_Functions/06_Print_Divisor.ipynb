{
  "nbformat": 4,
  "nbformat_minor": 0,
  "metadata": {
    "colab": {
      "provenance": [],
      "authorship_tag": "ABX9TyNk6Mc0rFOFvqptL10UvolM",
      "include_colab_link": true
    },
    "kernelspec": {
      "name": "python3",
      "display_name": "Python 3"
    },
    "language_info": {
      "name": "python"
    }
  },
  "cells": [
    {
      "cell_type": "markdown",
      "metadata": {
        "id": "view-in-github",
        "colab_type": "text"
      },
      "source": [
        "<a href=\"https://colab.research.google.com/github/aliasghar-10/Python-Project-4-Assignments/blob/main/Assignments%2000%20to%2005/06_Functions/06_Print_Divisor.ipynb\" target=\"_parent\"><img src=\"https://colab.research.google.com/assets/colab-badge.svg\" alt=\"Open In Colab\"/></a>"
      ]
    },
    {
      "cell_type": "markdown",
      "source": [
        "# **Print Divisor Project**"
      ],
      "metadata": {
        "id": "ARY-VMNOAeW8"
      }
    },
    {
      "cell_type": "code",
      "source": [
        "def print_divisors(num: int):\n",
        "    \"\"\"\n",
        "    Function jo kisi number ke saare divisors ko print karta hai.\n",
        "    \"\"\"\n",
        "    print(f\"Here are the divisors of {num}:\")\n",
        "    for i in range(1, num + 1):  # 1 se num tak loop chalayenge\n",
        "        if num % i == 0:  # Agar 'i' divisor hai (remainder 0 ho)\n",
        "            print(i)  # Divisor ko print karo\n",
        "\n",
        "def main():\n",
        "    \"\"\"\n",
        "    User se ek number input leta hai aur uske divisors ko dikhata hai.\n",
        "    \"\"\"\n",
        "    num = int(input(\"Enter a number: \"))  # User input lete hain\n",
        "    print_divisors(num)  # Divisors print karte hain\n",
        "\n",
        "if __name__ == '__main__':\n",
        "    main()\n"
      ],
      "metadata": {
        "colab": {
          "base_uri": "https://localhost:8080/"
        },
        "id": "sUflfFITAvzz",
        "outputId": "d8ec66ef-b9c2-47b6-a0e6-42050138c37e"
      },
      "execution_count": 3,
      "outputs": [
        {
          "output_type": "stream",
          "name": "stdout",
          "text": [
            "Enter a number: 12\n",
            "Here are the divisors of 12:\n",
            "1\n",
            "2\n",
            "3\n",
            "4\n",
            "6\n",
            "12\n"
          ]
        }
      ]
    }
  ]
}