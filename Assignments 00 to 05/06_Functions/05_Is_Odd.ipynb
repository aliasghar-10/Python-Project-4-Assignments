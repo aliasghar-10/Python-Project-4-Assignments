{
  "nbformat": 4,
  "nbformat_minor": 0,
  "metadata": {
    "colab": {
      "provenance": [],
      "authorship_tag": "ABX9TyPiSHIAPJ/JIzxuaNA4Ct2U",
      "include_colab_link": true
    },
    "kernelspec": {
      "name": "python3",
      "display_name": "Python 3"
    },
    "language_info": {
      "name": "python"
    }
  },
  "cells": [
    {
      "cell_type": "markdown",
      "metadata": {
        "id": "view-in-github",
        "colab_type": "text"
      },
      "source": [
        "<a href=\"https://colab.research.google.com/github/aliasghar-10/Python-Project-4-Assignments/blob/main/Assignments%2000%20to%2005/06_Functions/05_Is_Odd.ipynb\" target=\"_parent\"><img src=\"https://colab.research.google.com/assets/colab-badge.svg\" alt=\"Open In Colab\"/></a>"
      ]
    },
    {
      "cell_type": "markdown",
      "source": [
        "# **Is Odd Project**"
      ],
      "metadata": {
        "id": "AlD-p5vi_b9-"
      }
    },
    {
      "cell_type": "code",
      "source": [
        "def is_odd(value: int):\n",
        "    \"\"\"\n",
        "    Check karta hai agar value odd hai toh True return karega,\n",
        "    warna False.\n",
        "    \"\"\"\n",
        "    return value % 2 == 1\n",
        "\n",
        "def main():\n",
        "    \"\"\"\n",
        "    User se range ke numbers ka input leta hai aur unhe check karta hai\n",
        "    agar wo 'odd' hain ya 'even'.\n",
        "    \"\"\"\n",
        "    # User se range ka start aur end lete hain\n",
        "    start = int(input(\"Enter the starting number of the range: \"))\n",
        "    end = int(input(\"Enter the ending number of the range: \"))\n",
        "\n",
        "    print(f\"\\nChecking numbers from {start} to {end}:\")\n",
        "    for i in range(start, end + 1):  # Start se end tak loop karo\n",
        "        if is_odd(i):\n",
        "            print(f\"{i} odd\")\n",
        "        else:\n",
        "            print(f\"{i} even\")\n",
        "\n",
        "if __name__ == '__main__':\n",
        "    main()\n"
      ],
      "metadata": {
        "colab": {
          "base_uri": "https://localhost:8080/"
        },
        "id": "m8qguxvG_gJR",
        "outputId": "a8ed29e3-95f6-4868-8de2-bb9e24f19e00"
      },
      "execution_count": 3,
      "outputs": [
        {
          "output_type": "stream",
          "name": "stdout",
          "text": [
            "Enter the starting number of the range: 1\n",
            "Enter the ending number of the range: 10\n",
            "\n",
            "Checking numbers from 1 to 10:\n",
            "1 odd\n",
            "2 even\n",
            "3 odd\n",
            "4 even\n",
            "5 odd\n",
            "6 even\n",
            "7 odd\n",
            "8 even\n",
            "9 odd\n",
            "10 even\n"
          ]
        }
      ]
    }
  ]
}