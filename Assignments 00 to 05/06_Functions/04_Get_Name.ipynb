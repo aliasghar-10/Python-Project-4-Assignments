{
  "nbformat": 4,
  "nbformat_minor": 0,
  "metadata": {
    "colab": {
      "provenance": [],
      "authorship_tag": "ABX9TyPio8kudEnznYQG5fR6p7yf",
      "include_colab_link": true
    },
    "kernelspec": {
      "name": "python3",
      "display_name": "Python 3"
    },
    "language_info": {
      "name": "python"
    }
  },
  "cells": [
    {
      "cell_type": "markdown",
      "metadata": {
        "id": "view-in-github",
        "colab_type": "text"
      },
      "source": [
        "<a href=\"https://colab.research.google.com/github/aliasghar-10/Python-Project-4-Assignments/blob/main/Assignments%2000%20to%2005/06_Functions/04_Get_Name.ipynb\" target=\"_parent\"><img src=\"https://colab.research.google.com/assets/colab-badge.svg\" alt=\"Open In Colab\"/></a>"
      ]
    },
    {
      "cell_type": "markdown",
      "source": [
        "# **Get Name Project**"
      ],
      "metadata": {
        "id": "7wjXxMlG-ZkD"
      }
    },
    {
      "cell_type": "code",
      "source": [
        "def get_name():\n",
        "    \"\"\"\n",
        "    Ye function user se naam leta hai aur usi ko return karta hai.\n",
        "    \"\"\"\n",
        "    name = input(\"Apna naam enter karein: \")  # User se naam input lo\n",
        "    return name\n",
        "\n",
        "def main():\n",
        "    print(\"Greeting Program\")\n",
        "    name = get_name()  # Naam get karne ke liye function call karo\n",
        "    print(f\"Very Good {name}! 🤠\")  # Friendly greeting display karo\n",
        "\n",
        "if __name__ == '__main__':\n",
        "    main()\n"
      ],
      "metadata": {
        "colab": {
          "base_uri": "https://localhost:8080/"
        },
        "id": "OTFQGaQr-n3N",
        "outputId": "6e12b1d2-c079-4c51-f04e-9223f83deb59"
      },
      "execution_count": 1,
      "outputs": [
        {
          "output_type": "stream",
          "name": "stdout",
          "text": [
            "Greeting Program\n",
            "Apna naam enter karein: Ali Asghar\n",
            "Very Good Ali Asghar! 🤠\n"
          ]
        }
      ]
    }
  ]
}