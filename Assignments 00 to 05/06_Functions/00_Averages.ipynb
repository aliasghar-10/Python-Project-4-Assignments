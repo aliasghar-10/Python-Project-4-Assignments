{
  "nbformat": 4,
  "nbformat_minor": 0,
  "metadata": {
    "colab": {
      "provenance": [],
      "authorship_tag": "ABX9TyPColwKl0MI9G9iiixqnKLv",
      "include_colab_link": true
    },
    "kernelspec": {
      "name": "python3",
      "display_name": "Python 3"
    },
    "language_info": {
      "name": "python"
    }
  },
  "cells": [
    {
      "cell_type": "markdown",
      "metadata": {
        "id": "view-in-github",
        "colab_type": "text"
      },
      "source": [
        "<a href=\"https://colab.research.google.com/github/aliasghar-10/Python-Project-4-Assignments/blob/main/Assignments%2000%20to%2005/06_Functions/00_Averages.ipynb\" target=\"_parent\"><img src=\"https://colab.research.google.com/assets/colab-badge.svg\" alt=\"Open In Colab\"/></a>"
      ]
    },
    {
      "cell_type": "markdown",
      "source": [
        "## **Averages Project**"
      ],
      "metadata": {
        "id": "dKMzVw3f6oXL"
      }
    },
    {
      "cell_type": "code",
      "source": [
        "# Function jo do numbers ka average nikalta hai\n",
        "def average(a: float, b: float) -> float:\n",
        "    \"\"\"\n",
        "    Dono numbers ka average return karta hai.\n",
        "    \"\"\"\n",
        "    return (a + b) / 2  # Sum ka half return karte hain\n",
        "\n",
        "# Main function\n",
        "def main():\n",
        "    # User se pehla aur dusra number input lena\n",
        "    num1 = float(input(\"Pehla number daaliye: \"))\n",
        "    num2 = float(input(\"Dusra number daaliye: \"))\n",
        "\n",
        "    # Dono numbers ka average calculate karna\n",
        "    avg = average(num1, num2)\n",
        "    print(f\"Numbers {num1} aur {num2} ka average: {avg}\")\n",
        "\n",
        "    # Final average nikalne ke liye phir se user input lena\n",
        "    num3 = float(input(\"Teesra number daaliye: \"))\n",
        "    final_avg = average(avg, num3)\n",
        "    print(f\"Final Average of {avg} and {num3}: {final_avg}\")\n",
        "\n",
        "# Python boilerplate\n",
        "if __name__ == \"__main__\":\n",
        "    main()\n"
      ],
      "metadata": {
        "colab": {
          "base_uri": "https://localhost:8080/"
        },
        "id": "NrOHAaHH6sqW",
        "outputId": "4a40e9b4-58d1-4c87-fbf4-ea0f0e3ef248"
      },
      "execution_count": 2,
      "outputs": [
        {
          "output_type": "stream",
          "name": "stdout",
          "text": [
            "Pehla number daaliye: 6\n",
            "Dusra number daaliye: 8\n",
            "Numbers 6.0 aur 8.0 ka average: 7.0\n",
            "Teesra number daaliye: 10\n",
            "Final Average of 7.0 and 10.0: 8.5\n"
          ]
        }
      ]
    }
  ]
}