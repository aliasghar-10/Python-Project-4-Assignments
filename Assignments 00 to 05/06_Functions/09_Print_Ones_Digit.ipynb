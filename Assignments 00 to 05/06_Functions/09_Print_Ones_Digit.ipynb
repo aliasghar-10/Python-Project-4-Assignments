{
  "nbformat": 4,
  "nbformat_minor": 0,
  "metadata": {
    "colab": {
      "provenance": [],
      "authorship_tag": "ABX9TyN5TjDzp8SeBiBExcV/KRTc",
      "include_colab_link": true
    },
    "kernelspec": {
      "name": "python3",
      "display_name": "Python 3"
    },
    "language_info": {
      "name": "python"
    }
  },
  "cells": [
    {
      "cell_type": "markdown",
      "metadata": {
        "id": "view-in-github",
        "colab_type": "text"
      },
      "source": [
        "<a href=\"https://colab.research.google.com/github/aliasghar-10/Python-Project-4-Assignments/blob/main/Assignments%2000%20to%2005/06_Functions/09_Print_Ones_Digit.ipynb\" target=\"_parent\"><img src=\"https://colab.research.google.com/assets/colab-badge.svg\" alt=\"Open In Colab\"/></a>"
      ]
    },
    {
      "cell_type": "markdown",
      "source": [
        "# **Print Ones Digit Project**"
      ],
      "metadata": {
        "id": "bnanPxk1DQ7N"
      }
    },
    {
      "cell_type": "code",
      "source": [
        "def print_ones_digit(num: int):\n",
        "    \"\"\"\n",
        "    Diya gaya number ka ones digit nikalta hai aur print karta hai.\n",
        "    \"\"\"\n",
        "    print(\"The ones digit is\", num % 10)\n",
        "\n",
        "def main():\n",
        "    \"\"\"\n",
        "    User se ek number input leta hai aur uska ones digit print karta hai.\n",
        "    \"\"\"\n",
        "    num = int(input(\"Enter a number: \"))\n",
        "    print_ones_digit(num)\n",
        "\n",
        "if __name__ == '__main__':\n",
        "    main()\n"
      ],
      "metadata": {
        "colab": {
          "base_uri": "https://localhost:8080/"
        },
        "id": "m9KTHagFDaux",
        "outputId": "d0cecec5-e22b-4a03-aae6-74bc81398f86"
      },
      "execution_count": 4,
      "outputs": [
        {
          "output_type": "stream",
          "name": "stdout",
          "text": [
            "Enter a number: 987\n",
            "The ones digit is 7\n"
          ]
        }
      ]
    }
  ]
}