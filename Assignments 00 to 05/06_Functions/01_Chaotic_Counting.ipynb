{
  "nbformat": 4,
  "nbformat_minor": 0,
  "metadata": {
    "colab": {
      "provenance": [],
      "authorship_tag": "ABX9TyM/QQC+X/FquBPFBEncfLG5",
      "include_colab_link": true
    },
    "kernelspec": {
      "name": "python3",
      "display_name": "Python 3"
    },
    "language_info": {
      "name": "python"
    }
  },
  "cells": [
    {
      "cell_type": "markdown",
      "metadata": {
        "id": "view-in-github",
        "colab_type": "text"
      },
      "source": [
        "<a href=\"https://colab.research.google.com/github/aliasghar-10/Python-Project-4-Assignments/blob/main/Assignments%2000%20to%2005/06_Functions/01_Chaotic_Counting.ipynb\" target=\"_parent\"><img src=\"https://colab.research.google.com/assets/colab-badge.svg\" alt=\"Open In Colab\"/></a>"
      ]
    },
    {
      "cell_type": "markdown",
      "source": [
        "# **Chaotic Counting Project**"
      ],
      "metadata": {
        "id": "jxFBPxdk72PB"
      }
    },
    {
      "cell_type": "code",
      "source": [
        "import random  # Random module ko import karna zaroori hai\n",
        "\n",
        "# Done likelihood constant (isko adjust kar sakte ho)\n",
        "DONE_LIKELIHOOD = 0.3  # 30% chance to stop\n",
        "\n",
        "# Counting function\n",
        "def chaotic_counting():\n",
        "    for i in range(10):\n",
        "        current_number = i + 1  # Current number ko calculate karna\n",
        "        if done():  # Agar done() True return kare\n",
        "            return  # Counting function yahan hi terminate ho jayega\n",
        "        print(current_number)  # Number ko print karo\n",
        "\n",
        "# Done function jo randomly True ya False return karega\n",
        "def done():\n",
        "    \"\"\" Randomly decides whether to stop counting or not \"\"\"\n",
        "    return random.random() < DONE_LIKELIHOOD  # Likelihood ke basis par True ya False\n",
        "\n",
        "# Main function\n",
        "def main():\n",
        "    print(\"I'm going to count until 10 or until I feel like stopping, whichever comes first.\")\n",
        "    chaotic_counting()  # Chaotic counting function ko call karo\n",
        "    print(\"I'm done\")  # Jab chaotic_counting() terminate ho, tab ye message print hoga\n",
        "\n",
        "# Boilerplate to run the main function\n",
        "if __name__ == \"__main__\":\n",
        "    main()\n"
      ],
      "metadata": {
        "colab": {
          "base_uri": "https://localhost:8080/"
        },
        "id": "6A1SCQxo7-rA",
        "outputId": "5a2895a8-59a0-4682-fd37-45eee86328e2"
      },
      "execution_count": 9,
      "outputs": [
        {
          "output_type": "stream",
          "name": "stdout",
          "text": [
            "I'm going to count until 10 or until I feel like stopping, whichever comes first.\n",
            "1\n",
            "2\n",
            "3\n",
            "4\n",
            "5\n",
            "6\n",
            "I'm done\n"
          ]
        }
      ]
    }
  ]
}