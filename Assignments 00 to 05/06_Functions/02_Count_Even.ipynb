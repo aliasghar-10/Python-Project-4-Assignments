{
  "nbformat": 4,
  "nbformat_minor": 0,
  "metadata": {
    "colab": {
      "provenance": [],
      "authorship_tag": "ABX9TyMu4FwGZ1e/GfeHCEKnoSLT",
      "include_colab_link": true
    },
    "kernelspec": {
      "name": "python3",
      "display_name": "Python 3"
    },
    "language_info": {
      "name": "python"
    }
  },
  "cells": [
    {
      "cell_type": "markdown",
      "metadata": {
        "id": "view-in-github",
        "colab_type": "text"
      },
      "source": [
        "<a href=\"https://colab.research.google.com/github/aliasghar-10/Python-Project-4-Assignments/blob/main/Assignments%2000%20to%2005/06_Functions/02_Count_Even.ipynb\" target=\"_parent\"><img src=\"https://colab.research.google.com/assets/colab-badge.svg\" alt=\"Open In Colab\"/></a>"
      ]
    },
    {
      "cell_type": "markdown",
      "source": [
        "# **Count Even Project**"
      ],
      "metadata": {
        "id": "kE8_jXse81iE"
      }
    },
    {
      "cell_type": "code",
      "source": [
        "def count_even(lst):\n",
        "    \"\"\"\n",
        "    List mein kitne even numbers hain, ye function calculate karega.\n",
        "    \"\"\"\n",
        "    count = 0  # Even numbers ka count\n",
        "    for num in lst:  # List ke har element ke liye loop\n",
        "        if num % 2 == 0:  # Agar number even hai\n",
        "            count += 1  # Count ko 1 increment kar do\n",
        "    print(f\"Total even numbers: {count}\")  # Result print karo\n",
        "\n",
        "def get_list_of_ints():\n",
        "    \"\"\"\n",
        "    User se numbers input le kar list mein store karega.\n",
        "    \"\"\"\n",
        "    lst = []  # Empty list create karo\n",
        "    while True:  # Infinite loop, jab tak user stop na kare\n",
        "        user_input = input(\"Enter an integer or press enter to stop: \")  # Input lo\n",
        "        if user_input == \"\":  # Agar input blank ho\n",
        "            break  # Loop se bahar aa jao\n",
        "        lst.append(int(user_input))  # Input ko integer mein convert karke list mein add karo\n",
        "    return lst  # List return karo\n",
        "\n",
        "def main():\n",
        "    print(\"Even number counting program:\")\n",
        "    lst = get_list_of_ints()  # User se list input lo\n",
        "    count_even(lst)  # Even numbers count karo\n",
        "\n",
        "if __name__ == '__main__':\n",
        "    main()\n"
      ],
      "metadata": {
        "colab": {
          "base_uri": "https://localhost:8080/"
        },
        "id": "PNtZNJFl8-Sb",
        "outputId": "274b7dd9-2b85-4af0-a783-7e993bae451c"
      },
      "execution_count": 2,
      "outputs": [
        {
          "output_type": "stream",
          "name": "stdout",
          "text": [
            "Even number counting program:\n",
            "Enter an integer or press enter to stop: 12\n",
            "Enter an integer or press enter to stop: 7\n",
            "Enter an integer or press enter to stop: 9\n",
            "Enter an integer or press enter to stop: 3\n",
            "Enter an integer or press enter to stop: 4\n",
            "Enter an integer or press enter to stop: \n",
            "Total even numbers: 2\n"
          ]
        }
      ]
    }
  ]
}