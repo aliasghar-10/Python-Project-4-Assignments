{
  "nbformat": 4,
  "nbformat_minor": 0,
  "metadata": {
    "colab": {
      "provenance": [],
      "authorship_tag": "ABX9TyO74xYB+djtUqyPpgqlhy2T",
      "include_colab_link": true
    },
    "kernelspec": {
      "name": "python3",
      "display_name": "Python 3"
    },
    "language_info": {
      "name": "python"
    }
  },
  "cells": [
    {
      "cell_type": "markdown",
      "metadata": {
        "id": "view-in-github",
        "colab_type": "text"
      },
      "source": [
        "<a href=\"https://colab.research.google.com/github/aliasghar-10/Python-Project-4-Assignments/blob/main/Assignments%2000%20to%2005/06_Functions/07_Print_Multiple.ipynb\" target=\"_parent\"><img src=\"https://colab.research.google.com/assets/colab-badge.svg\" alt=\"Open In Colab\"/></a>"
      ]
    },
    {
      "cell_type": "markdown",
      "source": [
        "# **Print Multiple Project**"
      ],
      "metadata": {
        "id": "7BpfOwJcBV_T"
      }
    },
    {
      "cell_type": "code",
      "source": [
        "def print_multiple(message: str, repeats: int):\n",
        "    \"\"\"\n",
        "    Ye function ek message ko diya gaya number of times repeat karta hai.\n",
        "    \"\"\"\n",
        "    for _ in range(repeats):  # 'repeats' times loop chalega\n",
        "        print(message)  # Har baar message print hoga\n",
        "\n",
        "def main():\n",
        "    \"\"\"\n",
        "    User se message aur repeat count leta hai aur unko print karta hai.\n",
        "    \"\"\"\n",
        "    message = input(\"Please type a message: \")  # Message input karna\n",
        "    repeats = int(input(\"Enter a number of times to repeat your message: \"))  # Repeat count input\n",
        "    print_multiple(message, repeats)  # Message ko repeat karna\n",
        "\n",
        "if __name__ == '__main__':\n",
        "    main()\n"
      ],
      "metadata": {
        "colab": {
          "base_uri": "https://localhost:8080/"
        },
        "id": "336Hn9CwBhQX",
        "outputId": "d0299892-180f-472e-c1d6-6a90b6e41def"
      },
      "execution_count": 1,
      "outputs": [
        {
          "output_type": "stream",
          "name": "stdout",
          "text": [
            "Please type a message: Good Ali \n",
            "Enter a number of times to repeat your message: 5\n",
            "Good Ali \n",
            "Good Ali \n",
            "Good Ali \n",
            "Good Ali \n",
            "Good Ali \n"
          ]
        }
      ]
    }
  ]
}