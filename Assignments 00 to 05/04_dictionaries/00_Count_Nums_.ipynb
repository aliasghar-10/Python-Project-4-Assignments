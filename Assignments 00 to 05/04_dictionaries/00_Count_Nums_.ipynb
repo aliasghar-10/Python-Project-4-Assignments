{
  "nbformat": 4,
  "nbformat_minor": 0,
  "metadata": {
    "colab": {
      "provenance": [],
      "authorship_tag": "ABX9TyNVISHo6/7hEBlC5dwkWKlh",
      "include_colab_link": true
    },
    "kernelspec": {
      "name": "python3",
      "display_name": "Python 3"
    },
    "language_info": {
      "name": "python"
    }
  },
  "cells": [
    {
      "cell_type": "markdown",
      "metadata": {
        "id": "view-in-github",
        "colab_type": "text"
      },
      "source": [
        "<a href=\"https://colab.research.google.com/github/aliasghar-10/Python-Project-4-Assignments/blob/main/Assignments%2000%20to%2005/04_dictionaries/00_Count_Nums_.ipynb\" target=\"_parent\"><img src=\"https://colab.research.google.com/assets/colab-badge.svg\" alt=\"Open In Colab\"/></a>"
      ]
    },
    {
      "cell_type": "markdown",
      "source": [
        "# **Count Nums Project**"
      ],
      "metadata": {
        "id": "alPAqr7SXW-Y"
      }
    },
    {
      "cell_type": "code",
      "source": [
        "def get_user_numbers():\n",
        "    \"\"\"\n",
        "    Continuously prompt the user to enter numbers until a blank line is entered.\n",
        "    Returns a list of all the numbers entered by the user.\n",
        "    \"\"\"\n",
        "    user_numbers = []\n",
        "    while True:\n",
        "        user_input = input(\"Enter a number: \")\n",
        "\n",
        "        # Exit loop if user enters a blank line\n",
        "        if user_input == \"\":\n",
        "            break\n",
        "\n",
        "        # Convert input to integer and add to the list\n",
        "        num = int(user_input)\n",
        "        user_numbers.append(num)\n",
        "\n",
        "    return user_numbers\n",
        "\n",
        "\n",
        "def count_nums(num_lst):\n",
        "    \"\"\"\n",
        "    Count the occurrences of each number in the given list.\n",
        "    Returns a dictionary where the keys are numbers and values are their counts.\n",
        "    \"\"\"\n",
        "    num_dict = {}\n",
        "    for num in num_lst:\n",
        "        if num not in num_dict:\n",
        "            num_dict[num] = 1\n",
        "        else:\n",
        "            num_dict[num] += 1\n",
        "\n",
        "    return num_dict\n",
        "\n",
        "\n",
        "def print_counts(num_dict):\n",
        "    \"\"\"\n",
        "    Print the number of occurrences for each number in the dictionary.\n",
        "    \"\"\"\n",
        "    for num, count in num_dict.items():\n",
        "        print(f\"{num} appears {count} times.\")\n",
        "\n",
        "\n",
        "def main():\n",
        "    \"\"\"\n",
        "    Main function to run the program: prompts the user for numbers, counts their occurrences,\n",
        "    and displays the result.\n",
        "    \"\"\"\n",
        "    user_numbers = get_user_numbers()  # Get a list of numbers from the user\n",
        "    num_dict = count_nums(user_numbers)  # Count occurrences of each number\n",
        "    print(\"\\nNumber Counts:\")\n",
        "    print_counts(num_dict)  # Print the results\n",
        "\n",
        "\n",
        "# Boilerplate to ensure main() runs when executed\n",
        "if __name__ == \"__main__\":\n",
        "    main()\n"
      ],
      "metadata": {
        "colab": {
          "base_uri": "https://localhost:8080/"
        },
        "id": "exCa1xjUXe1U",
        "outputId": "38fb909b-5f4e-474c-f1f2-98b0b0c57007"
      },
      "execution_count": 2,
      "outputs": [
        {
          "output_type": "stream",
          "name": "stdout",
          "text": [
            "Enter a number: 12\n",
            "Enter a number: 17\n",
            "Enter a number: 19\n",
            "Enter a number: 18\n",
            "Enter a number: 12\n",
            "Enter a number: 15\n",
            "Enter a number: 18\n",
            "Enter a number: 17\n",
            "Enter a number: \n",
            "\n",
            "Number Counts:\n",
            "12 appears 2 times.\n",
            "17 appears 2 times.\n",
            "19 appears 1 times.\n",
            "18 appears 2 times.\n",
            "15 appears 1 times.\n"
          ]
        }
      ]
    }
  ]
}