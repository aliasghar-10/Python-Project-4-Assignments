{
  "nbformat": 4,
  "nbformat_minor": 0,
  "metadata": {
    "colab": {
      "provenance": [],
      "authorship_tag": "ABX9TyOHulJOapx3RgqUQVjpYbX8",
      "include_colab_link": true
    },
    "kernelspec": {
      "name": "python3",
      "display_name": "Python 3"
    },
    "language_info": {
      "name": "python"
    }
  },
  "cells": [
    {
      "cell_type": "markdown",
      "metadata": {
        "id": "view-in-github",
        "colab_type": "text"
      },
      "source": [
        "<a href=\"https://colab.research.google.com/github/aliasghar-10/Python-Project-4-Assignments/blob/main/Assignments%2000%20to%2005/04_dictionaries/03_Powerful_Passwords.ipynb\" target=\"_parent\"><img src=\"https://colab.research.google.com/assets/colab-badge.svg\" alt=\"Open In Colab\"/></a>"
      ]
    },
    {
      "cell_type": "markdown",
      "source": [
        "# **Powerful Passwords Project**"
      ],
      "metadata": {
        "id": "gUyr_mY4cHz7"
      }
    },
    {
      "cell_type": "code",
      "source": [
        "from hashlib import sha256\n",
        "\n",
        "def login(email, stored_logins, password_to_check):\n",
        "    \"\"\"\n",
        "    Returns True if the hash of the password we are checking matches the one in stored_logins\n",
        "    for a specific email. Otherwise, returns False.\n",
        "    \"\"\"\n",
        "    # Compare the stored hash with the hash of the password to check\n",
        "    return stored_logins.get(email) == hash_password(password_to_check)\n",
        "\n",
        "def hash_password(password):\n",
        "    \"\"\"\n",
        "    Takes in a password and returns the SHA256 hashed value for that specific password.\n",
        "    \"\"\"\n",
        "    return sha256(password.encode()).hexdigest()\n",
        "\n",
        "def main():\n",
        "    # Example dictionary with emails and their hashed passwords\n",
        "    stored_logins = {\n",
        "        \"example@gmail.com\": \"5e884898da28047151d0e56f8dc6292773603d0d6aabbdd62a11ef721d1542d8\",  # \"password\"\n",
        "        \"code_in_placer@cip.org\": \"973607a4ae7b4cf7d96a100b0fb07e8519cc4f70441d41214a9f811577bb06cc\",  # \"Karel\"\n",
        "        \"student@stanford.edu\": \"882c6df720fd99f5eebb1581a1cf975625cea8a160283011c0b9512bb56c95fb\"   # \"123!456?789\"\n",
        "    }\n",
        "\n",
        "    while True:\n",
        "        print(\"\\n--- Login System ---\")\n",
        "        email = input(\"Enter your email (or press Enter to quit): \")\n",
        "        if email == \"\":\n",
        "            print(\"Exiting the login system. Goodbye!\")\n",
        "            break\n",
        "\n",
        "        password = input(\"Enter your password: \")\n",
        "        if login(email, stored_logins, password):\n",
        "            print(f\"Login successful! Welcome, {email}.\")\n",
        "        else:\n",
        "            print(f\"Login failed! Either the email or password is incorrect.\")\n",
        "\n",
        "# Boilerplate code to run the program\n",
        "if __name__ == \"__main__\":\n",
        "    main()\n"
      ],
      "metadata": {
        "colab": {
          "base_uri": "https://localhost:8080/"
        },
        "id": "k8dC4C54cPCr",
        "outputId": "67ad058d-0cb9-467b-ad75-99874e3822b5"
      },
      "execution_count": 5,
      "outputs": [
        {
          "output_type": "stream",
          "name": "stdout",
          "text": [
            "\n",
            "--- Login System ---\n",
            "Enter your email (or press Enter to quit): example@gmail.com\n",
            "Enter your password: password\n",
            "Login successful! Welcome, example@gmail.com.\n",
            "\n",
            "--- Login System ---\n",
            "Enter your email (or press Enter to quit): worng@gamil.com\n",
            "Enter your password: worng password\n",
            "Login failed! Either the email or password is incorrect.\n",
            "\n",
            "--- Login System ---\n",
            "Enter your email (or press Enter to quit): \n",
            "Exiting the login system. Goodbye!\n"
          ]
        }
      ]
    }
  ]
}