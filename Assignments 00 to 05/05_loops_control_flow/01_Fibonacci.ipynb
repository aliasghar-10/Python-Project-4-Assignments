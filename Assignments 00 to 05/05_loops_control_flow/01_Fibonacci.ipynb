{
  "nbformat": 4,
  "nbformat_minor": 0,
  "metadata": {
    "colab": {
      "provenance": [],
      "authorship_tag": "ABX9TyP+RxH2Web8LcOdvHvDoxrS",
      "include_colab_link": true
    },
    "kernelspec": {
      "name": "python3",
      "display_name": "Python 3"
    },
    "language_info": {
      "name": "python"
    }
  },
  "cells": [
    {
      "cell_type": "markdown",
      "metadata": {
        "id": "view-in-github",
        "colab_type": "text"
      },
      "source": [
        "<a href=\"https://colab.research.google.com/github/aliasghar-10/Python-Project-4-Assignments/blob/main/Assignments%2000%20to%2005/05_loops_control_flow/01_Fibonacci.ipynb\" target=\"_parent\"><img src=\"https://colab.research.google.com/assets/colab-badge.svg\" alt=\"Open In Colab\"/></a>"
      ]
    },
    {
      "cell_type": "markdown",
      "source": [
        "# **Fibonacci Project**"
      ],
      "metadata": {
        "id": "QaDUJU8H2RDb"
      }
    },
    {
      "cell_type": "code",
      "source": [
        "# Maximum value for Fibonacci sequence\n",
        "MAX_TERM_VALUE: int = 10000\n",
        "\n",
        "def main():\n",
        "    # Pehla aur doosra Fibonacci number initialize karein\n",
        "    curr_term = 0\n",
        "    next_term = 1\n",
        "\n",
        "    # Jab tak current term 10,000 se chhoti ya barabar hai\n",
        "    while curr_term <= MAX_TERM_VALUE:\n",
        "        # Current term ko print karein\n",
        "        print(curr_term, end=\" \")\n",
        "\n",
        "        # Agle Fibonacci number ko calculate karein\n",
        "        term_after_next = curr_term + next_term\n",
        "        curr_term = next_term\n",
        "        next_term = term_after_next\n",
        "\n",
        "# Python boilerplate\n",
        "if __name__ == '__main__':\n",
        "    main()\n"
      ],
      "metadata": {
        "colab": {
          "base_uri": "https://localhost:8080/"
        },
        "id": "CK6-rjiP2WXC",
        "outputId": "a97788ae-f5c7-4497-d887-b3ee313b9064"
      },
      "execution_count": 1,
      "outputs": [
        {
          "output_type": "stream",
          "name": "stdout",
          "text": [
            "0 1 1 2 3 5 8 13 21 34 55 89 144 233 377 610 987 1597 2584 4181 6765 "
          ]
        }
      ]
    }
  ]
}