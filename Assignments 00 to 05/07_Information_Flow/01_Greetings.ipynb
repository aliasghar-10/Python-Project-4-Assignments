{
  "nbformat": 4,
  "nbformat_minor": 0,
  "metadata": {
    "colab": {
      "provenance": [],
      "authorship_tag": "ABX9TyMqnvCZoIDraz38fyYhW9F2",
      "include_colab_link": true
    },
    "kernelspec": {
      "name": "python3",
      "display_name": "Python 3"
    },
    "language_info": {
      "name": "python"
    }
  },
  "cells": [
    {
      "cell_type": "markdown",
      "metadata": {
        "id": "view-in-github",
        "colab_type": "text"
      },
      "source": [
        "<a href=\"https://colab.research.google.com/github/aliasghar-10/Python-Project-4-Assignments/blob/main/Assignments%2000%20to%2005/07_Information_Flow/01_Greetings.ipynb\" target=\"_parent\"><img src=\"https://colab.research.google.com/assets/colab-badge.svg\" alt=\"Open In Colab\"/></a>"
      ]
    },
    {
      "cell_type": "markdown",
      "source": [
        "# **Greetings Project**"
      ],
      "metadata": {
        "id": "93EE6ubIGTxi"
      }
    },
    {
      "cell_type": "code",
      "source": [
        "def greet(name: str) -> str:\n",
        "    \"\"\"\n",
        "    Ek greeting message return karta hai jo given name par based hota hai.\n",
        "    \"\"\"\n",
        "    return \"Greetings \" + name + \"!\"\n",
        "\n",
        "def main():\n",
        "    \"\"\"\n",
        "    User se naam input leta hai aur `greet()` function ko call karke greeting message print karta hai.\n",
        "    \"\"\"\n",
        "    name: str = input(\"What's your name? \")  # User se naam input\n",
        "    print(greet(name))  # Greeting message print karega\n",
        "\n",
        "if __name__ == '__main__':\n",
        "    main()\n",
        "\n"
      ],
      "metadata": {
        "colab": {
          "base_uri": "https://localhost:8080/"
        },
        "id": "kQWtx76xGX2R",
        "outputId": "15bef100-67f3-4dd6-d5e8-4d67a918c251"
      },
      "execution_count": 3,
      "outputs": [
        {
          "output_type": "stream",
          "name": "stdout",
          "text": [
            "What's your name? Ali Asghar\n",
            "Greetings Ali Asghar!\n"
          ]
        }
      ]
    }
  ]
}