{
  "nbformat": 4,
  "nbformat_minor": 0,
  "metadata": {
    "colab": {
      "provenance": [],
      "authorship_tag": "ABX9TyPV36FdaaSn9UOFUrC5PMpb",
      "include_colab_link": true
    },
    "kernelspec": {
      "name": "python3",
      "display_name": "Python 3"
    },
    "language_info": {
      "name": "python"
    }
  },
  "cells": [
    {
      "cell_type": "markdown",
      "metadata": {
        "id": "view-in-github",
        "colab_type": "text"
      },
      "source": [
        "<a href=\"https://colab.research.google.com/github/aliasghar-10/Python-Project-4-Assignments/blob/main/Assignments%2000%20to%2005/07_Information_Flow/00_Choosing_Returns.ipynb\" target=\"_parent\"><img src=\"https://colab.research.google.com/assets/colab-badge.svg\" alt=\"Open In Colab\"/></a>"
      ]
    },
    {
      "cell_type": "markdown",
      "source": [
        "# **Choosing Returns Project**"
      ],
      "metadata": {
        "id": "VFsScTpWFHcr"
      }
    },
    {
      "cell_type": "code",
      "source": [
        "# ADULT_AGE constant: U.S. mein adult hone ki minimum age.\n",
        "ADULT_AGE: int = 18\n",
        "\n",
        "def is_adult(age: int) -> bool:\n",
        "    \"\"\"\n",
        "    Age check karta hai.\n",
        "    - Agar age >= ADULT_AGE ho, toh True return karega.\n",
        "    - Agar age < ADULT_AGE ho, toh False return karega.\n",
        "    \"\"\"\n",
        "    if age >= ADULT_AGE:\n",
        "        return True\n",
        "    return False\n",
        "\n",
        "def main():\n",
        "    \"\"\"\n",
        "    User se age input leta hai aur `is_adult()` function call karke result print karta hai.\n",
        "    \"\"\"\n",
        "    age = int(input(\"How old is this person?: \"))  # User se input\n",
        "    print(is_adult(age))  # Function ka result print karega.\n",
        "\n",
        "if __name__ == \"__main__\":\n",
        "    main()\n"
      ],
      "metadata": {
        "colab": {
          "base_uri": "https://localhost:8080/"
        },
        "id": "z6a20RVaFNRd",
        "outputId": "673760ff-b436-45fc-e72f-d786047447a1"
      },
      "execution_count": 2,
      "outputs": [
        {
          "output_type": "stream",
          "name": "stdout",
          "text": [
            "How old is this person?: 22\n",
            "True\n"
          ]
        }
      ]
    }
  ]
}