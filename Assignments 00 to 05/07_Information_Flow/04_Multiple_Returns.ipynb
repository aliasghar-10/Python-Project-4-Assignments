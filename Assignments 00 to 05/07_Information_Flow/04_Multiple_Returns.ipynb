{
  "nbformat": 4,
  "nbformat_minor": 0,
  "metadata": {
    "colab": {
      "provenance": [],
      "authorship_tag": "ABX9TyPUclO8F0xS7KYW651KMm1Z",
      "include_colab_link": true
    },
    "kernelspec": {
      "name": "python3",
      "display_name": "Python 3"
    },
    "language_info": {
      "name": "python"
    }
  },
  "cells": [
    {
      "cell_type": "markdown",
      "metadata": {
        "id": "view-in-github",
        "colab_type": "text"
      },
      "source": [
        "<a href=\"https://colab.research.google.com/github/aliasghar-10/Python-Project-4-Assignments/blob/main/Assignments%2000%20to%2005/07_Information_Flow/04_Multiple_Returns.ipynb\" target=\"_parent\"><img src=\"https://colab.research.google.com/assets/colab-badge.svg\" alt=\"Open In Colab\"/></a>"
      ]
    },
    {
      "cell_type": "markdown",
      "source": [
        "# **Multiple Returns Project**"
      ],
      "metadata": {
        "id": "KRJBHIPII4do"
      }
    },
    {
      "cell_type": "code",
      "source": [
        "def get_user_info():\n",
        "    \"\"\"\n",
        "    User ke first name, last name aur email address ko input leta hai,\n",
        "    aur unhe ek tuple me return karta hai.\n",
        "    \"\"\"\n",
        "    first_name: str = input(\"What is your first name?: \")\n",
        "    last_name: str = input(\"What is your last name?: \")\n",
        "    email_address: str = input(\"What is your email address?: \")\n",
        "\n",
        "    return first_name, last_name, email_address\n",
        "\n",
        "########## No need to edit code past this point :) ##########\n",
        "\n",
        "def main():\n",
        "    \"\"\"\n",
        "    get_user_info() function ko call karta hai,\n",
        "    aur uske return value ko display karta hai.\n",
        "    \"\"\"\n",
        "    user_data = get_user_info()\n",
        "    print(\"Received the following user data:\", user_data)\n",
        "\n",
        "if __name__ == \"__main__\":\n",
        "    main()\n"
      ],
      "metadata": {
        "colab": {
          "base_uri": "https://localhost:8080/"
        },
        "id": "NeHpoC-2I8JP",
        "outputId": "df5ed4dd-2fd4-4c83-aacd-a004a21f30f9"
      },
      "execution_count": 2,
      "outputs": [
        {
          "output_type": "stream",
          "name": "stdout",
          "text": [
            "What is your first name?: Ali\n",
            "What is your last name?: Asghar\n",
            "What is your email address?: example.xyz@gmail.com\n",
            "Received the following user data: ('Ali', 'Asghar', 'example.xyz@gmail.com')\n"
          ]
        }
      ]
    }
  ]
}