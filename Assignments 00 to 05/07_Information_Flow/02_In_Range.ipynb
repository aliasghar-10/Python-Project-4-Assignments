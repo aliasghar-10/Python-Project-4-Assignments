{
  "nbformat": 4,
  "nbformat_minor": 0,
  "metadata": {
    "colab": {
      "provenance": [],
      "authorship_tag": "ABX9TyM8hd/tznftIdZFh4qZaR6Y",
      "include_colab_link": true
    },
    "kernelspec": {
      "name": "python3",
      "display_name": "Python 3"
    },
    "language_info": {
      "name": "python"
    }
  },
  "cells": [
    {
      "cell_type": "markdown",
      "metadata": {
        "id": "view-in-github",
        "colab_type": "text"
      },
      "source": [
        "<a href=\"https://colab.research.google.com/github/aliasghar-10/Python-Project-4-Assignments/blob/main/Assignments%2000%20to%2005/07_Information_Flow/02_In_Range.ipynb\" target=\"_parent\"><img src=\"https://colab.research.google.com/assets/colab-badge.svg\" alt=\"Open In Colab\"/></a>"
      ]
    },
    {
      "cell_type": "code",
      "execution_count": null,
      "metadata": {
        "id": "YpzRNCbZHCfT"
      },
      "outputs": [],
      "source": []
    },
    {
      "cell_type": "markdown",
      "source": [
        "# **In Range Project**"
      ],
      "metadata": {
        "id": "Ilcfyf3iHC-e"
      }
    },
    {
      "cell_type": "code",
      "source": [
        "def in_range(n: int, low: int, high: int) -> bool:\n",
        "    \"\"\"\n",
        "    Check karta hai agar n, low aur high ke beech (inclusive) hai.\n",
        "    Agar hai, to True return karega, warna False.\n",
        "    \"\"\"\n",
        "    return low <= n <= high  # Simplified condition\n",
        "\n",
        "def main():\n",
        "    \"\"\"\n",
        "    User se n, low aur high values le kar `in_range` function call karta hai\n",
        "    aur result display karta hai.\n",
        "    \"\"\"\n",
        "    n: int = int(input(\"Enter a number: \"))\n",
        "    low: int = int(input(\"Enter the lower bound: \"))\n",
        "    high: int = int(input(\"Enter the upper bound: \"))\n",
        "\n",
        "    if in_range(n, low, high):\n",
        "        print(f\"{n} is in the range {low} to {high}.\")\n",
        "    else:\n",
        "        print(f\"{n} is not in the range {low} to {high}.\")\n",
        "\n",
        "if __name__ == '__main__':\n",
        "    main()\n"
      ],
      "metadata": {
        "colab": {
          "base_uri": "https://localhost:8080/"
        },
        "id": "BrbfwZznHRBl",
        "outputId": "24f7409f-8ac3-4970-fab2-38757a142d79"
      },
      "execution_count": 1,
      "outputs": [
        {
          "output_type": "stream",
          "name": "stdout",
          "text": [
            "Enter a number: 7\n",
            "Enter the lower bound: 5\n",
            "Enter the upper bound: 10\n",
            "7 is in the range 5 to 10.\n"
          ]
        }
      ]
    }
  ]
}