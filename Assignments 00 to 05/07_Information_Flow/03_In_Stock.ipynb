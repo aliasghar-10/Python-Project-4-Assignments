{
  "nbformat": 4,
  "nbformat_minor": 0,
  "metadata": {
    "colab": {
      "provenance": [],
      "authorship_tag": "ABX9TyPf6QPRuJC8K3WesX7awgHE",
      "include_colab_link": true
    },
    "kernelspec": {
      "name": "python3",
      "display_name": "Python 3"
    },
    "language_info": {
      "name": "python"
    }
  },
  "cells": [
    {
      "cell_type": "markdown",
      "metadata": {
        "id": "view-in-github",
        "colab_type": "text"
      },
      "source": [
        "<a href=\"https://colab.research.google.com/github/aliasghar-10/Python-Project-4-Assignments/blob/main/Assignments%2000%20to%2005/07_Information_Flow/03_In_Stock.ipynb\" target=\"_parent\"><img src=\"https://colab.research.google.com/assets/colab-badge.svg\" alt=\"Open In Colab\"/></a>"
      ]
    },
    {
      "cell_type": "markdown",
      "source": [
        "# **In Stock Project**"
      ],
      "metadata": {
        "id": "DcY52E1wIBeM"
      }
    },
    {
      "cell_type": "code",
      "source": [
        "def num_in_stock(fruit: str) -> int:\n",
        "    \"\"\"\n",
        "    Returns the number of the specified fruit Sophia has in stock.\n",
        "    \"\"\"\n",
        "    if fruit == 'apple':\n",
        "        return 2\n",
        "    if fruit == 'banana':\n",
        "        return 4\n",
        "    if fruit == 'mango':\n",
        "        return 100\n",
        "    if fruit == 'orange':\n",
        "        return 20\n",
        "    else:\n",
        "        # This fruit is not in stock.\n",
        "        return 0\n",
        "\n",
        "\n",
        "def main():\n",
        "    \"\"\"\n",
        "    User se fruit input leta hai, stock check karta hai,\n",
        "    aur result print karta hai.\n",
        "    \"\"\"\n",
        "    fruit: str = input(\"Enter a fruit: \").lower()\n",
        "    stock: int = num_in_stock(fruit)\n",
        "\n",
        "    if stock == 0:\n",
        "        print(\"This fruit is not in stock.\")\n",
        "    else:\n",
        "        print(\"This fruit is in stock! Here is how many:\")\n",
        "        print(stock)\n",
        "\n",
        "\n",
        "if __name__ == '__main__':\n",
        "    main()\n"
      ],
      "metadata": {
        "colab": {
          "base_uri": "https://localhost:8080/"
        },
        "id": "7sgPoprrIGy4",
        "outputId": "cd7b3733-1a90-4738-d3e9-cba0ee28389f"
      },
      "execution_count": 2,
      "outputs": [
        {
          "output_type": "stream",
          "name": "stdout",
          "text": [
            "Enter a fruit: mango\n",
            "This fruit is in stock! Here is how many:\n",
            "100\n"
          ]
        }
      ]
    }
  ]
}