{
  "nbformat": 4,
  "nbformat_minor": 0,
  "metadata": {
    "colab": {
      "provenance": [],
      "authorship_tag": "ABX9TyO8pAmn6ju65K9wqwHa/7UL",
      "include_colab_link": true
    },
    "kernelspec": {
      "name": "python3",
      "display_name": "Python 3"
    },
    "language_info": {
      "name": "python"
    }
  },
  "cells": [
    {
      "cell_type": "markdown",
      "metadata": {
        "id": "view-in-github",
        "colab_type": "text"
      },
      "source": [
        "<a href=\"https://colab.research.google.com/github/aliasghar-10/Python-Project-4-Assignments/blob/main/Assignments%2000%20to%2005/07_Information_Flow/05_Subtract_7.ipynb\" target=\"_parent\"><img src=\"https://colab.research.google.com/assets/colab-badge.svg\" alt=\"Open In Colab\"/></a>"
      ]
    },
    {
      "cell_type": "markdown",
      "source": [
        "# **Subtract 7 Project**"
      ],
      "metadata": {
        "id": "0q_sqRY1g8bm"
      }
    },
    {
      "cell_type": "code",
      "source": [
        "def subtract_seven(num):\n",
        "    \"\"\"\n",
        "    Yeh function ek number num se 7 subtract karta hai aur result return karta hai.\n",
        "    \"\"\"\n",
        "    return num - 7\n",
        "\n",
        "def main():\n",
        "    \"\"\"\n",
        "    User se dynamically do numbers input leta hai, aur un numbers ke result ke saath subtraction karta hai.\n",
        "    \"\"\"\n",
        "    # User se pehla number input lena\n",
        "    first_number = int(input(\"Enter the first number: \"))\n",
        "\n",
        "    # User se doosra number input lena\n",
        "    second_number = int(input(\"Enter the second number: \"))\n",
        "\n",
        "    # Subtraction results\n",
        "    result1 = subtract_seven(first_number)\n",
        "    result2 = subtract_seven(second_number)\n",
        "\n",
        "    # Results print karna\n",
        "    print(f\"Result after subtracting 7 from {first_number}: {result1}\")\n",
        "    print(f\"Result after subtracting 7 from {second_number}: {result2}\")\n",
        "\n",
        "# There is no need to edit code beyond this point\n",
        "\n",
        "if __name__ == '__main__':\n",
        "    main()\n"
      ],
      "metadata": {
        "colab": {
          "base_uri": "https://localhost:8080/"
        },
        "id": "zPbL05tkhCC9",
        "outputId": "8fac74bf-fe25-4423-ae83-4f0293f5b573"
      },
      "execution_count": 5,
      "outputs": [
        {
          "output_type": "stream",
          "name": "stdout",
          "text": [
            "Enter the first number: 12\n",
            "Enter the second number: 10\n",
            "Result after subtracting 7 from 12: 5\n",
            "Result after subtracting 7 from 10: 3\n"
          ]
        }
      ]
    }
  ]
}