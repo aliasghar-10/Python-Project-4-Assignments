{
  "nbformat": 4,
  "nbformat_minor": 0,
  "metadata": {
    "colab": {
      "provenance": [],
      "authorship_tag": "ABX9TyNSQyj/1Ds2CHs0+934cMLW",
      "include_colab_link": true
    },
    "kernelspec": {
      "name": "python3",
      "display_name": "Python 3"
    },
    "language_info": {
      "name": "python"
    }
  },
  "cells": [
    {
      "cell_type": "markdown",
      "metadata": {
        "id": "view-in-github",
        "colab_type": "text"
      },
      "source": [
        "<a href=\"https://colab.research.google.com/github/aliasghar-10/Python-Project-4-Assignments/blob/main/Assignments%2000%20to%2005/04_dictionaries/01_Phone_Book.ipynb\" target=\"_parent\"><img src=\"https://colab.research.google.com/assets/colab-badge.svg\" alt=\"Open In Colab\"/></a>"
      ]
    },
    {
      "cell_type": "markdown",
      "source": [
        "# **Phone Book Project**"
      ],
      "metadata": {
        "id": "9w_Hye-1ZEFy"
      }
    },
    {
      "cell_type": "code",
      "source": [
        "def read_phone_numbers():\n",
        "    \"\"\"\n",
        "    Prompts the user to enter names and phone numbers.\n",
        "    Returns a dictionary representing the phonebook.\n",
        "    \"\"\"\n",
        "    phonebook = {}  # Initialize an empty dictionary\n",
        "\n",
        "    while True:\n",
        "        name = input(\"Name: \")\n",
        "        if name == \"\":  # Stop input on blank line\n",
        "            break\n",
        "        number = input(\"Number: \")\n",
        "        phonebook[name] = number  # Add name and number to phonebook\n",
        "\n",
        "    return phonebook\n",
        "\n",
        "\n",
        "def print_phonebook(phonebook):\n",
        "    \"\"\"\n",
        "    Prints all the entries in the phonebook.\n",
        "    \"\"\"\n",
        "    print(\"\\nPhonebook Entries:\")\n",
        "    for name, number in phonebook.items():\n",
        "        print(f\"{name} -> {number}\")\n",
        "    print()  # For clean formatting\n",
        "\n",
        "\n",
        "def lookup_numbers(phonebook):\n",
        "    \"\"\"\n",
        "    Allows the user to look up phone numbers by name.\n",
        "    \"\"\"\n",
        "    print(\"\\nLookup Numbers:\")\n",
        "    while True:\n",
        "        name = input(\"Enter name to lookup: \")\n",
        "        if name == \"\":  # Stop lookup on blank line\n",
        "            break\n",
        "        if name not in phonebook:\n",
        "            print(f\"{name} is not in the phonebook.\")\n",
        "        else:\n",
        "            print(f\"{name}'s number: {phonebook[name]}\")\n",
        "\n",
        "\n",
        "def main():\n",
        "    \"\"\"\n",
        "    Main function to manage the phonebook.\n",
        "    It allows adding numbers, viewing entries, and looking up contacts.\n",
        "    \"\"\"\n",
        "    phonebook = read_phone_numbers()  # Step 1: Create the phonebook\n",
        "    print_phonebook(phonebook)       # Step 2: Display the phonebook\n",
        "    lookup_numbers(phonebook)        # Step 3: Allow lookup of numbers\n",
        "\n",
        "\n",
        "# Python boilerplate to ensure the script runs correctly\n",
        "if __name__ == \"__main__\":\n",
        "    main()\n"
      ],
      "metadata": {
        "colab": {
          "base_uri": "https://localhost:8080/"
        },
        "id": "D2uQCm1bZKji",
        "outputId": "c3157f20-56f3-4b5e-999a-dbe941a5bd25"
      },
      "execution_count": 1,
      "outputs": [
        {
          "name": "stdout",
          "output_type": "stream",
          "text": [
            "Name: Ali\n",
            "Number: 03123456789\n",
            "Name: Asghar \n",
            "Number: 03987654321\n",
            "Name: \n",
            "\n",
            "Phonebook Entries:\n",
            "Ali -> 03123456789\n",
            "Asghar  -> 03987654321\n",
            "\n",
            "\n",
            "Lookup Numbers:\n",
            "Enter name to lookup: Ali\n",
            "Ali's number: 03123456789\n",
            "Enter name to lookup: Asghar\n",
            "Asghar is not in the phonebook.\n",
            "Enter name to lookup: \n"
          ]
        }
      ]
    }
  ]
}