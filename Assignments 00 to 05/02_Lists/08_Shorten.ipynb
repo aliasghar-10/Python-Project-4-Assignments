{
  "nbformat": 4,
  "nbformat_minor": 0,
  "metadata": {
    "colab": {
      "provenance": [],
      "authorship_tag": "ABX9TyPS30xDW2xTn3Ym+ubfGZFo",
      "include_colab_link": true
    },
    "kernelspec": {
      "name": "python3",
      "display_name": "Python 3"
    },
    "language_info": {
      "name": "python"
    }
  },
  "cells": [
    {
      "cell_type": "markdown",
      "metadata": {
        "id": "view-in-github",
        "colab_type": "text"
      },
      "source": [
        "<a href=\"https://colab.research.google.com/github/aliasghar-10/Python-Project-4-Assignments/blob/main/Assignments%2000%20to%2005/02_lists/08_Shorten.ipynb\" target=\"_parent\"><img src=\"https://colab.research.google.com/assets/colab-badge.svg\" alt=\"Open In Colab\"/></a>"
      ]
    },
    {
      "cell_type": "markdown",
      "source": [
        "# **Shorten Project**"
      ],
      "metadata": {
        "id": "Jy6PaKlBc_ac"
      }
    },
    {
      "cell_type": "code",
      "source": [
        "# Define the maximum allowed length of the list\n",
        "MAX_LENGTH: int = 3\n",
        "\n",
        "def shorten(lst):\n",
        "    \"\"\"\n",
        "    Removes elements from the end of the list until its length matches MAX_LENGTH.\n",
        "    Prints each element that is removed.\n",
        "    \"\"\"\n",
        "    while len(lst) > MAX_LENGTH:\n",
        "        removed_item = lst.pop()  # Remove the last item\n",
        "        print(removed_item)  # Print the removed item\n",
        "\n",
        "def get_list():\n",
        "    \"\"\"\n",
        "    Prompts the user to input elements for a list one at a time.\n",
        "    Stops when the user presses Enter without typing anything.\n",
        "    Returns the constructed list.\n",
        "    \"\"\"\n",
        "    user_list = []  # Initialize an empty list\n",
        "    print(\"Enter elements for the list (press Enter to stop):\")\n",
        "    while True:\n",
        "        element = input(\"Enter an element: \")\n",
        "        if element == \"\":  # Stop if input is empty\n",
        "            break\n",
        "        user_list.append(element)  # Add the entered element to the list\n",
        "    return user_list\n",
        "\n",
        "def main():\n",
        "    \"\"\"\n",
        "    Main function to handle user input, process the list, and shorten it if necessary.\n",
        "    \"\"\"\n",
        "    lst = get_list()  # Get the list from the user\n",
        "    shorten(lst)  # Shorten the list if required\n",
        "    print(\"Final list:\", lst)  # Display the resulting list\n",
        "\n",
        "# Ensures the main function runs when the script is executed\n",
        "if __name__ == '__main__':\n",
        "    main()\n"
      ],
      "metadata": {
        "colab": {
          "base_uri": "https://localhost:8080/"
        },
        "id": "dB68Y9l4dXje",
        "outputId": "a7399605-1e3b-4cba-f5c5-7a0b4e76d338"
      },
      "execution_count": 2,
      "outputs": [
        {
          "output_type": "stream",
          "name": "stdout",
          "text": [
            "Enter elements for the list (press Enter to stop):\n",
            "Enter an element: apple\n",
            "Enter an element: banana\n",
            "Enter an element: maongo\n",
            "Enter an element: orange\n",
            "Enter an element: \n",
            "orange\n",
            "Final list: ['apple', 'banana', 'maongo']\n"
          ]
        }
      ]
    }
  ]
}