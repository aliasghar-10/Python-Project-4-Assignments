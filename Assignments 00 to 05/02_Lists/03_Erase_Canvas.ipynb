{
  "nbformat": 4,
  "nbformat_minor": 0,
  "metadata": {
    "colab": {
      "provenance": [],
      "authorship_tag": "ABX9TyOBR9X1Mnhemy9UDUr2nXfB",
      "include_colab_link": true
    },
    "kernelspec": {
      "name": "python3",
      "display_name": "Python 3"
    },
    "language_info": {
      "name": "python"
    }
  },
  "cells": [
    {
      "cell_type": "markdown",
      "metadata": {
        "id": "view-in-github",
        "colab_type": "text"
      },
      "source": [
        "<a href=\"https://colab.research.google.com/github/aliasghar-10/Python-Project-4-Assignments/blob/main/Assignments%2000%20to%2005/02_lists/03_Erase_Canvas.ipynb\" target=\"_parent\"><img src=\"https://colab.research.google.com/assets/colab-badge.svg\" alt=\"Open In Colab\"/></a>"
      ]
    },
    {
      "cell_type": "markdown",
      "source": [
        "# **Erase Canvas Project**"
      ],
      "metadata": {
        "id": "7VlNib2fS4mu"
      }
    },
    {
      "cell_type": "code",
      "source": [
        "import matplotlib.pyplot as plt\n",
        "import matplotlib.patches as patches\n",
        "from matplotlib.widgets import Button\n",
        "\n",
        "# Constants\n",
        "CANVAS_WIDTH = 400\n",
        "CANVAS_HEIGHT = 400\n",
        "CELL_SIZE = 40\n",
        "ERASER_SIZE = 20\n",
        "\n",
        "class CanvasApp:\n",
        "    def __init__(self):\n",
        "        self.fig, self.ax = plt.subplots()\n",
        "        self.fig.set_size_inches(5, 5)\n",
        "        self.ax.set_xlim(0, CANVAS_WIDTH)\n",
        "        self.ax.set_ylim(0, CANVAS_HEIGHT)\n",
        "        self.ax.set_aspect('equal')\n",
        "        self.grid = []\n",
        "        self.eraser = None\n",
        "        self.init_canvas()\n",
        "        self.dragging = False\n",
        "        self.connect_events()\n",
        "        plt.show()\n",
        "\n",
        "    def init_canvas(self):\n",
        "        # Create a grid of blue cells\n",
        "        for x in range(0, CANVAS_WIDTH, CELL_SIZE):\n",
        "            for y in range(0, CANVAS_HEIGHT, CELL_SIZE):\n",
        "                rect = patches.Rectangle((x, y), CELL_SIZE, CELL_SIZE, facecolor='blue', edgecolor='black')\n",
        "                self.ax.add_patch(rect)\n",
        "                self.grid.append(rect)\n",
        "\n",
        "        # Create the eraser\n",
        "        self.eraser = patches.Rectangle((0, 0), ERASER_SIZE, ERASER_SIZE, facecolor='pink', edgecolor='red')\n",
        "        self.ax.add_patch(self.eraser)\n",
        "\n",
        "    def connect_events(self):\n",
        "        self.fig.canvas.mpl_connect('motion_notify_event', self.on_mouse_move)\n",
        "        self.fig.canvas.mpl_connect('button_press_event', self.on_mouse_down)\n",
        "        self.fig.canvas.mpl_connect('button_release_event', self.on_mouse_up)\n",
        "\n",
        "    def on_mouse_down(self, event):\n",
        "        self.dragging = True\n",
        "\n",
        "    def on_mouse_up(self, event):\n",
        "        self.dragging = False\n",
        "\n",
        "    def on_mouse_move(self, event):\n",
        "        if self.dragging and event.xdata and event.ydata:\n",
        "            # Move the eraser to the mouse position\n",
        "            self.eraser.set_xy((event.xdata - ERASER_SIZE / 2, event.ydata - ERASER_SIZE / 2))\n",
        "\n",
        "            # Erase overlapping cells\n",
        "            for rect in self.grid:\n",
        "                if self.rect_overlap(rect, self.eraser):\n",
        "                    rect.set_facecolor('white')\n",
        "\n",
        "            self.fig.canvas.draw_idle()\n",
        "\n",
        "    def rect_overlap(self, rect1, rect2):\n",
        "        # Check if two rectangles overlap\n",
        "        x1, y1 = rect1.get_xy()\n",
        "        x2, y2 = rect2.get_xy()\n",
        "        return not (\n",
        "            x1 + CELL_SIZE <= x2 or\n",
        "            x2 + ERASER_SIZE <= x1 or\n",
        "            y1 + CELL_SIZE <= y2 or\n",
        "            y2 + ERASER_SIZE <= y1\n",
        "        )\n",
        "\n",
        "# Run the app\n",
        "CanvasApp()\n"
      ],
      "metadata": {
        "colab": {
          "base_uri": "https://localhost:8080/",
          "height": 468
        },
        "id": "Lr2REdVnTOLq",
        "outputId": "33e62e46-d696-48d0-d445-43c5f3779f6a"
      },
      "execution_count": 2,
      "outputs": [
        {
          "output_type": "display_data",
          "data": {
            "text/plain": [
              "<Figure size 500x500 with 1 Axes>"
            ],
            "image/png": "[encoded data removed]"
          },
          "metadata": {}
        },
        {
          "output_type": "execute_result",
          "data": {
            "text/plain": [
              "<__main__.CanvasApp at 0x7c2ae84447d0>"
            ]
          },
          "metadata": {},
          "execution_count": 2
        }
      ]
    }
  ]
}