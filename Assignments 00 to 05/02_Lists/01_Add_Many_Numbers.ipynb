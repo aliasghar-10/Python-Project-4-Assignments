{
  "nbformat": 4,
  "nbformat_minor": 0,
  "metadata": {
    "colab": {
      "provenance": [],
      "authorship_tag": "ABX9TyPDuquHHgstz+ZALdhz3xvY",
      "include_colab_link": true
    },
    "kernelspec": {
      "name": "python3",
      "display_name": "Python 3"
    },
    "language_info": {
      "name": "python"
    }
  },
  "cells": [
    {
      "cell_type": "markdown",
      "metadata": {
        "id": "view-in-github",
        "colab_type": "text"
      },
      "source": [
        "<a href=\"https://colab.research.google.com/github/aliasghar-10/Python-Project-4-Assignments/blob/main/Assignments%2000%20to%2005/02_lists/01_Add_Many_Numbers.ipynb\" target=\"_parent\"><img src=\"https://colab.research.google.com/assets/colab-badge.svg\" alt=\"Open In Colab\"/></a>"
      ]
    },
    {
      "cell_type": "markdown",
      "source": [
        "# **Add Many Numbers Project**"
      ],
      "metadata": {
        "id": "jxpIvWV6NK4h"
      }
    },
    {
      "cell_type": "code",
      "source": [
        "def add_many_numbers(numbers) -> int:\n",
        "    \"\"\"\n",
        "    Takes a list of numbers and returns their sum.\n",
        "    \"\"\"\n",
        "    # Initialize a variable to store the total\n",
        "    total_so_far: int = 0\n",
        "\n",
        "    # Loop through each number in the list and add it to the total\n",
        "    for number in numbers:\n",
        "        total_so_far += number\n",
        "\n",
        "    # Return the total sum\n",
        "    return total_so_far\n",
        "\n",
        "\n",
        "def main():\n",
        "    # Define a list of numbers to sum up\n",
        "    numbers: list[int] = [1, 2, 3, 4, 5]\n",
        "\n",
        "    # Call the function to calculate the sum\n",
        "    sum_of_numbers: int = add_many_numbers(numbers)\n",
        "\n",
        "    # Print the result to the user\n",
        "    print(\"The sum of the numbers is:\", sum_of_numbers)\n",
        "\n",
        "\n",
        "# This line ensures the main function runs when the file is executed\n",
        "if __name__ == '__main__':\n",
        "    main()\n",
        "\n"
      ],
      "metadata": {
        "colab": {
          "base_uri": "https://localhost:8080/"
        },
        "id": "qtXUQMh8Ndu0",
        "outputId": "13f43d42-c94a-46c8-e58f-f8917aa5afad"
      },
      "execution_count": 2,
      "outputs": [
        {
          "output_type": "stream",
          "name": "stdout",
          "text": [
            "The sum of the numbers is: 15\n"
          ]
        }
      ]
    }
  ]
}