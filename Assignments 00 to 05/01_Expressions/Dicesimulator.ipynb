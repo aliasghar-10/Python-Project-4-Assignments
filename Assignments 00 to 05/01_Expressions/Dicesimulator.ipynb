{
  "nbformat": 4,
  "nbformat_minor": 0,
  "metadata": {
    "colab": {
      "provenance": [],
      "authorship_tag": "ABX9TyMOFb9twNZnTYRBidH7dDoS",
      "include_colab_link": true
    },
    "kernelspec": {
      "name": "python3",
      "display_name": "Python 3"
    },
    "language_info": {
      "name": "python"
    }
  },
  "cells": [
    {
      "cell_type": "markdown",
      "metadata": {
        "id": "view-in-github",
        "colab_type": "text"
      },
      "source": [
        "<a href=\"https://colab.research.google.com/github/aliasghar-10/Python-Project-4-Assignments/blob/main/Assignments%2000%20to%2005/01_Expressions/Dicesimulator.ipynb\" target=\"_parent\"><img src=\"https://colab.research.google.com/assets/colab-badge.svg\" alt=\"Open In Colab\"/></a>"
      ]
    },
    {
      "cell_type": "markdown",
      "source": [
        "# **Dicesimulator Project**"
      ],
      "metadata": {
        "id": "5BxpolXt-5R_"
      }
    },
    {
      "cell_type": "code",
      "source": [
        "# Import the random library to simulate random dice rolls\n",
        "import random\n",
        "\n",
        "# Number of sides on each die\n",
        "NUM_SIDES = 6\n",
        "\n",
        "def roll_dice():\n",
        "    \"\"\"\n",
        "    Simulates rolling two dice and prints their total.\n",
        "    \"\"\"\n",
        "    die1 = random.randint(1, NUM_SIDES)  # Generate a random number between 1 and NUM_SIDES for the first die\n",
        "    die2 = random.randint(1, NUM_SIDES)  # Generate a random number between 1 and NUM_SIDES for the second die\n",
        "    total = die1 + die2  # Calculate the total of the two dice\n",
        "    print(f\"Rolled: {die1} and {die2}, Total: {total}\")\n",
        "\n",
        "def main():\n",
        "    # Example to show variable scope\n",
        "    die1 = 10  # Local variable in the main() function\n",
        "    print(f\"die1 in main() starts as: {die1}\")\n",
        "\n",
        "    # Simulate rolling the dice three times\n",
        "    roll_dice()\n",
        "    roll_dice()\n",
        "    roll_dice()\n",
        "\n",
        "    print(f\"die1 in main() is: {die1}\")\n",
        "\n",
        "# Ensure the main() function is called when the script is executed\n",
        "if __name__ == '__main__':\n",
        "    main()\n"
      ],
      "metadata": {
        "colab": {
          "base_uri": "https://localhost:8080/"
        },
        "id": "I28wUwIR_Wa8",
        "outputId": "30d3f840-7194-4373-8451-8c828cad7357"
      },
      "execution_count": 1,
      "outputs": [
        {
          "output_type": "stream",
          "name": "stdout",
          "text": [
            "die1 in main() starts as: 10\n",
            "Rolled: 3 and 2, Total: 5\n",
            "Rolled: 6 and 5, Total: 11\n",
            "Rolled: 5 and 4, Total: 9\n",
            "die1 in main() is: 10\n"
          ]
        }
      ]
    }
  ]
}