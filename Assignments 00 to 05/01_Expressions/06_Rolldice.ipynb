{
  "nbformat": 4,
  "nbformat_minor": 0,
  "metadata": {
    "colab": {
      "provenance": [],
      "authorship_tag": "ABX9TyONhWoOrTaeVsp1eKuX/Q8P",
      "include_colab_link": true
    },
    "kernelspec": {
      "name": "python3",
      "display_name": "Python 3"
    },
    "language_info": {
      "name": "python"
    }
  },
  "cells": [
    {
      "cell_type": "markdown",
      "metadata": {
        "id": "view-in-github",
        "colab_type": "text"
      },
      "source": [
        "<a href=\"https://colab.research.google.com/github/aliasghar-10/Python-Project-4-Assignments/blob/main/Assignments%2000%20to%2005/01_Expressions/06_Rolldice.ipynb\" target=\"_parent\"><img src=\"https://colab.research.google.com/assets/colab-badge.svg\" alt=\"Open In Colab\"/></a>"
      ]
    },
    {
      "cell_type": "markdown",
      "source": [
        "# **Rolldice Project**"
      ],
      "metadata": {
        "id": "95s_2GmTGJ9Z"
      }
    },
    {
      "cell_type": "code",
      "source": [
        "\"\"\"\n",
        "Simulates rolling two dice and displays the results.\n",
        "\"\"\"\n",
        "\n",
        "import random  # Import the random module for dice rolling functionality\n",
        "\n",
        "# Constant for the number of sides on each die\n",
        "NUM_SIDES: int = 6\n",
        "\n",
        "def main():\n",
        "    \"\"\"\n",
        "    Roll two dice, display their individual values, and calculate the total.\n",
        "    \"\"\"\n",
        "    # Roll each die using random.randint\n",
        "    die1: int = random.randint(1, NUM_SIDES)\n",
        "    die2: int = random.randint(1, NUM_SIDES)\n",
        "\n",
        "    # Calculate the total of both dice\n",
        "    total: int = die1 + die2\n",
        "\n",
        "    # Display the results\n",
        "    print(f\"Each die has {NUM_SIDES} sides.\")\n",
        "    print(f\"Result of the first die: {die1}\")\n",
        "    print(f\"Result of the second die: {die2}\")\n",
        "    print(f\"The total of the two dice is: {total}\")\n",
        "\n",
        "# Call the main function when the program is executed\n",
        "if __name__ == '__main__':\n",
        "    main()\n"
      ],
      "metadata": {
        "colab": {
          "base_uri": "https://localhost:8080/"
        },
        "id": "D1WZ4K6BGPXN",
        "outputId": "fe4eef99-fb3b-489c-a91f-261b64870821"
      },
      "execution_count": 1,
      "outputs": [
        {
          "output_type": "stream",
          "name": "stdout",
          "text": [
            "Each die has 6 sides.\n",
            "Result of the first die: 1\n",
            "Result of the second die: 3\n",
            "The total of the two dice is: 4\n"
          ]
        }
      ]
    }
  ]
}