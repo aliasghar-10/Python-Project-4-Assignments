{
  "nbformat": 4,
  "nbformat_minor": 0,
  "metadata": {
    "colab": {
      "provenance": [],
      "authorship_tag": "ABX9TyOXi8tPC7AtdxBEObYRGIhS",
      "include_colab_link": true
    },
    "kernelspec": {
      "name": "python3",
      "display_name": "Python 3"
    },
    "language_info": {
      "name": "python"
    }
  },
  "cells": [
    {
      "cell_type": "markdown",
      "metadata": {
        "id": "view-in-github",
        "colab_type": "text"
      },
      "source": [
        "<a href=\"https://colab.research.google.com/github/aliasghar-10/Python-Project-4-Assignments/blob/main/Assignments%2000%20to%2005/01_Expressions/e%3Dmc2.ipynb\" target=\"_parent\"><img src=\"https://colab.research.google.com/assets/colab-badge.svg\" alt=\"Open In Colab\"/></a>"
      ]
    },
    {
      "cell_type": "markdown",
      "source": [
        "# **e=mc2 : Project**"
      ],
      "metadata": {
        "id": "7QngKA8yBM6v"
      }
    },
    {
      "cell_type": "code",
      "source": [
        "# Define a constant for the speed of light in meters per second\n",
        "C: int = 299792458  # Speed of light (m/s)\n",
        "\n",
        "def main():\n",
        "    \"\"\"\n",
        "    Reads mass in kilograms from the user and calculates the equivalent energy\n",
        "    using Einstein's mass-energy equivalence formula: E = m * c^2\n",
        "    \"\"\"\n",
        "    # Get mass input from the user\n",
        "    mass_in_kg: float = float(input(\"Enter kilos of mass: \"))\n",
        "\n",
        "    # Calculate the energy equivalent\n",
        "    energy_in_joules: float = mass_in_kg * (C ** 2)\n",
        "\n",
        "    # Display the calculations to the user\n",
        "    print(\"e = m * C^2...\")\n",
        "    print(f\"m = {mass_in_kg} kg\")\n",
        "    print(f\"C = {C} m/s\")\n",
        "    print(f\"{energy_in_joules} joules of energy!\")\n",
        "\n",
        "# Ensure the main() function is called when the script is executed\n",
        "if __name__ == '__main__':\n",
        "    main()\n"
      ],
      "metadata": {
        "colab": {
          "base_uri": "https://localhost:8080/"
        },
        "id": "yPhzUvWPBYQy",
        "outputId": "baff09ca-d1ca-4c41-e911-7405b44afea8"
      },
      "execution_count": 2,
      "outputs": [
        {
          "output_type": "stream",
          "name": "stdout",
          "text": [
            "Enter kilos of mass: 50\n",
            "e = m * C^2...\n",
            "m = 50.0 kg\n",
            "C = 299792458 m/s\n",
            "4.493775893684088e+18 joules of energy!\n"
          ]
        }
      ]
    }
  ]
}