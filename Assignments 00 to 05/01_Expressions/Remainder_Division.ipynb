{
  "nbformat": 4,
  "nbformat_minor": 0,
  "metadata": {
    "colab": {
      "provenance": [],
      "authorship_tag": "ABX9TyND1Ayo+h+Mw5bdK3zJdRCR",
      "include_colab_link": true
    },
    "kernelspec": {
      "name": "python3",
      "display_name": "Python 3"
    },
    "language_info": {
      "name": "python"
    }
  },
  "cells": [
    {
      "cell_type": "markdown",
      "metadata": {
        "id": "view-in-github",
        "colab_type": "text"
      },
      "source": [
        "<a href=\"https://colab.research.google.com/github/aliasghar-10/Python-Project-4-Assignments/blob/main/Assignments%2000%20to%2005/01_Expressions/Remainder_Division.ipynb\" target=\"_parent\"><img src=\"https://colab.research.google.com/assets/colab-badge.svg\" alt=\"Open In Colab\"/></a>"
      ]
    },
    {
      "cell_type": "markdown",
      "source": [
        "# **Remainder Division Project**"
      ],
      "metadata": {
        "id": "jZCRC1FOFF-2"
      }
    },
    {
      "cell_type": "code",
      "source": [
        "def main():\n",
        "    \"\"\"\n",
        "    Calculate the quotient and remainder of two integers.\n",
        "    \"\"\"\n",
        "    # Prompt the user for the dividend and divisor\n",
        "    dividend: int = int(input(\"Please enter an integer to be divided: \"))\n",
        "    divisor: int = int(input(\"Please enter an integer to divide by: \"))\n",
        "\n",
        "    # Perform integer division to find the quotient\n",
        "    quotient: int = dividend // divisor\n",
        "\n",
        "    # Use the modulo operator to find the remainder\n",
        "    remainder: int = dividend % divisor\n",
        "\n",
        "    # Display the result\n",
        "    print(f\"The result of this division is {quotient} with a remainder of {remainder}\")\n",
        "\n",
        "# Ensure the main() function is called when the script is executed\n",
        "if __name__ == '__main__':\n",
        "    main()\n"
      ],
      "metadata": {
        "colab": {
          "base_uri": "https://localhost:8080/"
        },
        "id": "jWK8BKAQFYea",
        "outputId": "93c1d0ac-5f6c-4167-d533-c98f99e5680c"
      },
      "execution_count": 1,
      "outputs": [
        {
          "output_type": "stream",
          "name": "stdout",
          "text": [
            "Please enter an integer to be divided: 23\n",
            "Please enter an integer to divide by: 5\n",
            "The result of this division is 4 with a remainder of 3\n"
          ]
        }
      ]
    }
  ]
}