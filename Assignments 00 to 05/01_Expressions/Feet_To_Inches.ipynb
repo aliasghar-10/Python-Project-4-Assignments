{
  "nbformat": 4,
  "nbformat_minor": 0,
  "metadata": {
    "colab": {
      "provenance": [],
      "authorship_tag": "ABX9TyPLZykI6YMvF5BHmso83v6c",
      "include_colab_link": true
    },
    "kernelspec": {
      "name": "python3",
      "display_name": "Python 3"
    },
    "language_info": {
      "name": "python"
    }
  },
  "cells": [
    {
      "cell_type": "markdown",
      "metadata": {
        "id": "view-in-github",
        "colab_type": "text"
      },
      "source": [
        "<a href=\"https://colab.research.google.com/github/aliasghar-10/Python-Project-4-Assignments/blob/main/Assignments%2000%20to%2005/01_Expressions/Feet_To_Inches.ipynb\" target=\"_parent\"><img src=\"https://colab.research.google.com/assets/colab-badge.svg\" alt=\"Open In Colab\"/></a>"
      ]
    },
    {
      "cell_type": "markdown",
      "source": [
        "# **Feet To Inches Project**"
      ],
      "metadata": {
        "id": "O3hgaTJQCZSa"
      }
    },
    {
      "cell_type": "code",
      "source": [
        "# Define a constant for the conversion factor\n",
        "INCHES_IN_FOOT: int = 12  # Number of inches in one foot\n",
        "\n",
        "def main():\n",
        "    \"\"\"\n",
        "    Converts a given value in feet to inches and displays the result.\n",
        "    \"\"\"\n",
        "    # Prompt user for the number of feet\n",
        "    feet: float = float(input(\"Enter number of feet: \"))\n",
        "\n",
        "    # Perform the conversion\n",
        "    inches: float = feet * INCHES_IN_FOOT\n",
        "\n",
        "    # Display the result\n",
        "    print(f\"{feet} feet is equal to {inches} inches.\")\n",
        "\n",
        "# Ensure the main() function is called when the script is executed\n",
        "if __name__ == '__main__':\n",
        "    main()\n"
      ],
      "metadata": {
        "colab": {
          "base_uri": "https://localhost:8080/"
        },
        "id": "wL9aIAfqCpMh",
        "outputId": "8b6a1ac3-fccc-4057-b26d-f1ee142299f2"
      },
      "execution_count": 1,
      "outputs": [
        {
          "output_type": "stream",
          "name": "stdout",
          "text": [
            "Enter number of feet: 5.1\n",
            "5.1 feet is equal to 61.199999999999996 inches.\n"
          ]
        }
      ]
    }
  ]
}