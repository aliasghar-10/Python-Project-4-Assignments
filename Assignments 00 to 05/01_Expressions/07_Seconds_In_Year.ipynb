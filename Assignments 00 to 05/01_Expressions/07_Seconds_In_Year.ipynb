{
  "nbformat": 4,
  "nbformat_minor": 0,
  "metadata": {
    "colab": {
      "provenance": [],
      "authorship_tag": "ABX9TyOrt/NXM72Ry6Y+Kd0Qsked",
      "include_colab_link": true
    },
    "kernelspec": {
      "name": "python3",
      "display_name": "Python 3"
    },
    "language_info": {
      "name": "python"
    }
  },
  "cells": [
    {
      "cell_type": "markdown",
      "metadata": {
        "id": "view-in-github",
        "colab_type": "text"
      },
      "source": [
        "<a href=\"https://colab.research.google.com/github/aliasghar-10/Python-Project-4-Assignments/blob/main/Assignments%2000%20to%2005/01_Expressions/07_Seconds_In_Year.ipynb\" target=\"_parent\"><img src=\"https://colab.research.google.com/assets/colab-badge.svg\" alt=\"Open In Colab\"/></a>"
      ]
    },
    {
      "cell_type": "markdown",
      "source": [
        "# **Calculate Seconds In Year Project**"
      ],
      "metadata": {
        "id": "oeI5-w0IIYT7"
      }
    },
    {
      "cell_type": "code",
      "source": [
        "\"\"\"\n",
        "Calculates and displays the number of seconds in a year using constants.\n",
        "\"\"\"\n",
        "\n",
        "# Constants for calculations\n",
        "DAYS_IN_YEAR: int = 365  # Number of days in a year\n",
        "HOURS_IN_DAY: int = 24   # Number of hours in a day\n",
        "MINUTES_IN_HOUR: int = 60  # Number of minutes in an hour\n",
        "SECONDS_IN_MINUTE: int = 60  # Number of seconds in a minute\n",
        "\n",
        "def main():\n",
        "    \"\"\"\n",
        "    Calculate the total seconds in a year and display the result.\n",
        "    \"\"\"\n",
        "    # Calculate seconds in a year using constants\n",
        "    seconds_in_year: int = DAYS_IN_YEAR * HOURS_IN_DAY * MINUTES_IN_HOUR * SECONDS_IN_MINUTE\n",
        "\n",
        "    # Print the result\n",
        "    print(f\"There are {seconds_in_year} seconds in a year!\")\n",
        "\n",
        "# Call the main function when the program is executed\n",
        "if __name__ == '__main__':\n",
        "    main()\n"
      ],
      "metadata": {
        "colab": {
          "base_uri": "https://localhost:8080/"
        },
        "id": "DBQtkYjIIzQ6",
        "outputId": "0f0939e0-eba6-445f-815f-d4e65e0de503"
      },
      "execution_count": 1,
      "outputs": [
        {
          "output_type": "stream",
          "name": "stdout",
          "text": [
            "There are 31536000 seconds in a year!\n"
          ]
        }
      ]
    }
  ]
}