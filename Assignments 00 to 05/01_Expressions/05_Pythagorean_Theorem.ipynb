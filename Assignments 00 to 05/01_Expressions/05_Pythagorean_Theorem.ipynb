{
  "nbformat": 4,
  "nbformat_minor": 0,
  "metadata": {
    "colab": {
      "provenance": [],
      "authorship_tag": "ABX9TyMsB8o66rjhokgYL8Ajw+/6",
      "include_colab_link": true
    },
    "kernelspec": {
      "name": "python3",
      "display_name": "Python 3"
    },
    "language_info": {
      "name": "python"
    }
  },
  "cells": [
    {
      "cell_type": "markdown",
      "metadata": {
        "id": "view-in-github",
        "colab_type": "text"
      },
      "source": [
        "<a href=\"https://colab.research.google.com/github/aliasghar-10/Python-Project-4-Assignments/blob/main/Assignments%2000%20to%2005/01_Expressions/Pythagorean_Theorem.ipynb\" target=\"_parent\"><img src=\"https://colab.research.google.com/assets/colab-badge.svg\" alt=\"Open In Colab\"/></a>"
      ]
    },
    {
      "cell_type": "markdown",
      "source": [
        "# **Pythagorean Theorem Project**"
      ],
      "metadata": {
        "id": "yQ9wMtSNDVis"
      }
    },
    {
      "cell_type": "code",
      "source": [
        "import math  # Import math library to use the sqrt() function\n",
        "\n",
        "def main():\n",
        "    \"\"\"\n",
        "    Calculate the hypotenuse of a right triangle using the Pythagorean theorem.\n",
        "    \"\"\"\n",
        "    # Prompt the user for the lengths of the two perpendicular sides\n",
        "    ab: float = float(input(\"Enter the length of side AB: \"))\n",
        "    ac: float = float(input(\"Enter the length of side AC: \"))\n",
        "\n",
        "    # Compute the length of the hypotenuse (BC)\n",
        "    bc: float = math.sqrt(ab**2 + ac**2)\n",
        "\n",
        "    # Display the result\n",
        "    print(f\"The length of side BC (the hypotenuse) is: {bc}\")\n",
        "\n",
        "# Ensure the main() function is called when the script is executed\n",
        "if __name__ == '__main__':\n",
        "    main()\n"
      ],
      "metadata": {
        "colab": {
          "base_uri": "https://localhost:8080/"
        },
        "collapsed": true,
        "id": "i3H4K_noDfUo",
        "outputId": "663827d8-6b04-47b2-9bf3-a8d16617b74b"
      },
      "execution_count": 2,
      "outputs": [
        {
          "output_type": "stream",
          "name": "stdout",
          "text": [
            "Enter the length of side AB: 6\n",
            "Enter the length of side AC: 8\n",
            "The length of side BC (the hypotenuse) is: 10.0\n"
          ]
        }
      ]
    }
  ]
}
