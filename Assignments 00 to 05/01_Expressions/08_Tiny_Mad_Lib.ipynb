{
  "nbformat": 4,
  "nbformat_minor": 0,
  "metadata": {
    "colab": {
      "provenance": [],
      "authorship_tag": "ABX9TyNtCoHIm3O6cOXA7fU2+PYc",
      "include_colab_link": true
    },
    "kernelspec": {
      "name": "python3",
      "display_name": "Python 3"
    },
    "language_info": {
      "name": "python"
    }
  },
  "cells": [
    {
      "cell_type": "markdown",
      "metadata": {
        "id": "view-in-github",
        "colab_type": "text"
      },
      "source": [
        "<a href=\"https://colab.research.google.com/github/aliasghar-10/Python-Project-4-Assignments/blob/main/Assignments%2000%20to%2005/01_Expressions/08_Tiny_Mad_Lib.ipynb\" target=\"_parent\"><img src=\"https://colab.research.google.com/assets/colab-badge.svg\" alt=\"Open In Colab\"/></a>"
      ]
    },
    {
      "cell_type": "markdown",
      "source": [
        "# **Tiny Mad Lib Project**"
      ],
      "metadata": {
        "id": "aZJcivz9KR1k"
      }
    },
    {
      "cell_type": "code",
      "source": [
        "\"\"\"\n",
        "A simple Mad Lib program that takes user input for an adjective, noun, and verb\n",
        "to create a fun sentence.\n",
        "\"\"\"\n",
        "\n",
        "# Sentence starter constant\n",
        "SENTENCE_START: str = \"Panaversity is fun. I learned to program and used Python to make my \"\n",
        "\n",
        "def main():\n",
        "    \"\"\"\n",
        "    Collect user inputs for adjective, noun, and verb, then create and print a fun Mad Lib sentence.\n",
        "    \"\"\"\n",
        "    # Get user inputs\n",
        "    adjective: str = input(\"Please type an adjective and press enter: \")\n",
        "    noun: str = input(\"Please type a noun and press enter: \")\n",
        "    verb: str = input(\"Please type a verb and press enter: \")\n",
        "\n",
        "    # Form the complete sentence\n",
        "    mad_lib_sentence: str = SENTENCE_START + adjective + \" \" + noun + \" \" + verb + \"!\"\n",
        "\n",
        "    # Print the fun sentence\n",
        "    print(mad_lib_sentence)\n",
        "\n",
        "# Call the main function when the program is executed\n",
        "if __name__ == '__main__':\n",
        "    main()\n"
      ],
      "metadata": {
        "colab": {
          "base_uri": "https://localhost:8080/"
        },
        "id": "gcvN0l_RKlwA",
        "outputId": "185631f7-9b35-49fe-abb0-dc9b3f30f947"
      },
      "execution_count": 2,
      "outputs": [
        {
          "output_type": "stream",
          "name": "stdout",
          "text": [
            "Please type an adjective and press enter: tiny\n",
            "Please type a noun and press enter: plant \n",
            "Please type a verb and press enter: fly\n",
            "Panaversity is fun. I learned to program and used Python to make my tiny plant  fly!\n"
          ]
        }
      ]
    }
  ]
}