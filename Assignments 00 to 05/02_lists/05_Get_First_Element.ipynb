{
  "nbformat": 4,
  "nbformat_minor": 0,
  "metadata": {
    "colab": {
      "provenance": [],
      "authorship_tag": "ABX9TyPFYZ33RqKMwWx8ukc84XB/",
      "include_colab_link": true
    },
    "kernelspec": {
      "name": "python3",
      "display_name": "Python 3"
    },
    "language_info": {
      "name": "python"
    }
  },
  "cells": [
    {
      "cell_type": "markdown",
      "metadata": {
        "id": "view-in-github",
        "colab_type": "text"
      },
      "source": [
        "<a href=\"https://colab.research.google.com/github/aliasghar-10/Python-Project-4-Assignments/blob/main/Assignments%2000%20to%2005/02_lists/05_Get_First_Element.ipynb\" target=\"_parent\"><img src=\"https://colab.research.google.com/assets/colab-badge.svg\" alt=\"Open In Colab\"/></a>"
      ]
    },
    {
      "cell_type": "markdown",
      "source": [
        "# **Get First Element Project**"
      ],
      "metadata": {
        "id": "j5UjLZfAZM40"
      }
    },
    {
      "cell_type": "code",
      "source": [
        "# Function to print the first element of a given list\n",
        "def get_first_element(lst):\n",
        "    \"\"\"\n",
        "    Prints the first element of a provided list.\n",
        "    \"\"\"\n",
        "    print(f\"The first element in the list is: {lst[0]}\")\n",
        "\n",
        "# Function to get the list from the user\n",
        "def get_lst():\n",
        "    \"\"\"\n",
        "    Prompts the user to enter elements for the list one by one.\n",
        "    Stops when the user presses Enter without typing anything.\n",
        "    Returns the resulting list.\n",
        "    \"\"\"\n",
        "    lst = []  # Initialize an empty list\n",
        "    print(\"Enter elements for your list (press Enter to stop):\")\n",
        "    while True:\n",
        "        elem = input(\"Enter an element: \")  # Prompt the user for an element\n",
        "        if elem == \"\":  # Stop when the input is empty\n",
        "            break\n",
        "        lst.append(elem)  # Add the element to the list\n",
        "    return lst\n",
        "\n",
        "# Main function starts here\n",
        "def main():\n",
        "    user_list = get_lst()  # Get the list from the user\n",
        "    get_first_element(user_list)  # Print the first element of the list\n",
        "\n",
        "# Ensures the main function runs when the script is executed\n",
        "if __name__ == '__main__':\n",
        "    main()\n"
      ],
      "metadata": {
        "colab": {
          "base_uri": "https://localhost:8080/"
        },
        "id": "IexxLpGiZXPf",
        "outputId": "24a9da9e-3810-40c6-d2bc-4f3efa99e884"
      },
      "execution_count": 1,
      "outputs": [
        {
          "output_type": "stream",
          "name": "stdout",
          "text": [
            "Enter elements for your list (press Enter to stop):\n",
            "Enter an element: apple\n",
            "Enter an element: banana\n",
            "Enter an element: orange\n",
            "Enter an element: mango\n",
            "Enter an element: \n",
            "The first element in the list is: apple\n"
          ]
        }
      ]
    }
  ]
}