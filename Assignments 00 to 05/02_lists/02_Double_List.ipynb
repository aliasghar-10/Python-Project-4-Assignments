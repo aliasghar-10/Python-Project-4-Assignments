{
  "nbformat": 4,
  "nbformat_minor": 0,
  "metadata": {
    "colab": {
      "provenance": [],
      "authorship_tag": "ABX9TyPw43yHGSnQpkjX+STszIDt",
      "include_colab_link": true
    },
    "kernelspec": {
      "name": "python3",
      "display_name": "Python 3"
    },
    "language_info": {
      "name": "python"
    }
  },
  "cells": [
    {
      "cell_type": "markdown",
      "metadata": {
        "id": "view-in-github",
        "colab_type": "text"
      },
      "source": [
        "<a href=\"https://colab.research.google.com/github/aliasghar-10/Python-Project-4-Assignments/blob/main/Assignments%2000%20to%2005/02_lists/02_Double_List.ipynb\" target=\"_parent\"><img src=\"https://colab.research.google.com/assets/colab-badge.svg\" alt=\"Open In Colab\"/></a>"
      ]
    },
    {
      "cell_type": "markdown",
      "source": [
        "# **Double List Project**"
      ],
      "metadata": {
        "id": "7blyAAt8Rsx4"
      }
    },
    {
      "cell_type": "code",
      "source": [
        "def main():\n",
        "    # Create a list of numbers\n",
        "    numbers: list[int] = [1, 2, 3, 4]\n",
        "\n",
        "    # Loop through the indices of the list and double each element\n",
        "    for i in range(len(numbers)):\n",
        "        numbers[i] = numbers[i] * 2  # Update each element to its double\n",
        "\n",
        "    # Print the modified list\n",
        "    print(\"The doubled list is:\", numbers)\n",
        "\n",
        "\n",
        "# This line ensures the main function runs when the file is executed\n",
        "if __name__ == '__main__':\n",
        "    main()\n"
      ],
      "metadata": {
        "colab": {
          "base_uri": "https://localhost:8080/"
        },
        "id": "d28OHp4VR0vM",
        "outputId": "13b7e9ec-8228-44a8-df23-78750dcfcfd5"
      },
      "execution_count": 1,
      "outputs": [
        {
          "output_type": "stream",
          "name": "stdout",
          "text": [
            "The doubled list is: [2, 4, 6, 8]\n"
          ]
        }
      ]
    }
  ]
}