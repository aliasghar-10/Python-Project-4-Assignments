{
  "nbformat": 4,
  "nbformat_minor": 0,
  "metadata": {
    "colab": {
      "provenance": [],
      "authorship_tag": "ABX9TyMIjGeWd9eROAmdoDwEExxp",
      "include_colab_link": true
    },
    "kernelspec": {
      "name": "python3",
      "display_name": "Python 3"
    },
    "language_info": {
      "name": "python"
    }
  },
  "cells": [
    {
      "cell_type": "markdown",
      "metadata": {
        "id": "view-in-github",
        "colab_type": "text"
      },
      "source": [
        "<a href=\"https://colab.research.google.com/github/aliasghar-10/Python-Project-4-Assignments/blob/main/Assignments%2000%20to%2005/02_lists/07_Get_List.ipynb\" target=\"_parent\"><img src=\"https://colab.research.google.com/assets/colab-badge.svg\" alt=\"Open In Colab\"/></a>"
      ]
    },
    {
      "cell_type": "markdown",
      "source": [
        "# **Get List Project**"
      ],
      "metadata": {
        "id": "em3rlwaub2fZ"
      }
    },
    {
      "cell_type": "code",
      "source": [
        "# Main function to create and display a list based on user input\n",
        "def main():\n",
        "    \"\"\"\n",
        "    Continuously asks the user to input values to add to a list.\n",
        "    Stops when the user presses Enter without typing anything.\n",
        "    Prints the final list.\n",
        "    \"\"\"\n",
        "    user_list = []  # Initialize an empty list\n",
        "\n",
        "    print(\"Enter values to add to the list (press Enter to stop):\")\n",
        "    while True:\n",
        "        value = input(\"Enter a value: \")  # Prompt user for a value\n",
        "        if value == \"\":  # Stop when the input is empty\n",
        "            break\n",
        "        user_list.append(value)  # Add the entered value to the list\n",
        "\n",
        "    print(\"Here's the list:\", user_list)  # Display the final list\n",
        "\n",
        "# Ensures the main function runs when the script is executed\n",
        "if __name__ == '__main__':\n",
        "    main()\n"
      ],
      "metadata": {
        "colab": {
          "base_uri": "https://localhost:8080/"
        },
        "id": "eYGk3DshcHUK",
        "outputId": "d741d092-c352-409e-b604-4cc26d28bd4a"
      },
      "execution_count": 1,
      "outputs": [
        {
          "output_type": "stream",
          "name": "stdout",
          "text": [
            "Enter values to add to the list (press Enter to stop):\n",
            "Enter a value: apple \n",
            "Enter a value: banana\n",
            "Enter a value: orange\n",
            "Enter a value: mango\n",
            "Enter a value: \n",
            "Here's the list: ['apple ', 'banana', 'orange', 'mango']\n"
          ]
        }
      ]
    }
  ]
}