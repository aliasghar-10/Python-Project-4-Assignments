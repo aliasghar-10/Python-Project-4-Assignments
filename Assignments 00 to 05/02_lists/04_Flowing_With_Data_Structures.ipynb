{
  "nbformat": 4,
  "nbformat_minor": 0,
  "metadata": {
    "colab": {
      "provenance": [],
      "authorship_tag": "ABX9TyPnqD1hQhhJccMBzQPE5krZ",
      "include_colab_link": true
    },
    "kernelspec": {
      "name": "python3",
      "display_name": "Python 3"
    },
    "language_info": {
      "name": "python"
    }
  },
  "cells": [
    {
      "cell_type": "markdown",
      "metadata": {
        "id": "view-in-github",
        "colab_type": "text"
      },
      "source": [
        "<a href=\"https://colab.research.google.com/github/aliasghar-10/Python-Project-4-Assignments/blob/main/Assignments%2000%20to%2005/02_lists/04_Flowing_With_Data_Structures.ipynb\" target=\"_parent\"><img src=\"https://colab.research.google.com/assets/colab-badge.svg\" alt=\"Open In Colab\"/></a>"
      ]
    },
    {
      "cell_type": "markdown",
      "source": [
        "# **Flowing With Data Structures Project**"
      ],
      "metadata": {
        "id": "ILksb7AxXlTx"
      }
    },
    {
      "cell_type": "code",
      "source": [
        "# Function to add three copies of the given data to the list\n",
        "def add_three_copies(my_list, data):\n",
        "    for i in range(3):  # Loop runs 3 times\n",
        "        my_list.append(data)  # Add the 'data' to 'my_list'\n",
        "\n",
        "# Main function starts here\n",
        "def main():\n",
        "    # Asking the user for input\n",
        "    message = input(\"Enter a message to copy: \")\n",
        "\n",
        "    # Initializing an empty list\n",
        "    my_list = []\n",
        "\n",
        "    # Printing the list before any changes\n",
        "    print(\"List before:\", my_list)\n",
        "\n",
        "    # Adding three copies of the user-provided message to the list\n",
        "    add_three_copies(my_list, message)\n",
        "\n",
        "    # Printing the list after the changes\n",
        "    print(\"List after:\", my_list)\n",
        "\n",
        "# This ensures the main function runs when the file is executed\n",
        "if __name__ == \"__main__\":\n",
        "    main()\n"
      ],
      "metadata": {
        "colab": {
          "base_uri": "https://localhost:8080/"
        },
        "id": "MRzttFQtXvsx",
        "outputId": "4450bcb9-1cad-4a5f-94b3-cb42aaedf9a0"
      },
      "execution_count": 1,
      "outputs": [
        {
          "output_type": "stream",
          "name": "stdout",
          "text": [
            "Enter a message to copy: Hello world\n",
            "List before: []\n",
            "List after: ['Hello world', 'Hello world', 'Hello world']\n"
          ]
        }
      ]
    }
  ]
}