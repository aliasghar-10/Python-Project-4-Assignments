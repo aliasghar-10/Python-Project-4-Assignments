{
  "nbformat": 4,
  "nbformat_minor": 0,
  "metadata": {
    "colab": {
      "provenance": [],
      "authorship_tag": "ABX9TyPOiqCa0/Kx6cBQvGyKCRu/",
      "include_colab_link": true
    },
    "kernelspec": {
      "name": "python3",
      "display_name": "Python 3"
    },
    "language_info": {
      "name": "python"
    }
  },
  "cells": [
    {
      "cell_type": "markdown",
      "metadata": {
        "id": "view-in-github",
        "colab_type": "text"
      },
      "source": [
        "<a href=\"https://colab.research.google.com/github/aliasghar-10/Python-Project-4-Assignments/blob/main/Assignments%201%20to%206/Compulsory%209%20Project/05_Hangman_Game_in_Python_Project.ipynb\" target=\"_parent\"><img src=\"https://colab.research.google.com/assets/colab-badge.svg\" alt=\"Open In Colab\"/></a>"
      ]
    },
    {
      "cell_type": "markdown",
      "source": [
        "# Hangman Game in Python Project By **Ali Asghar**"
      ],
      "metadata": {
        "id": "0bHm3zTbxydC"
      }
    },
    {
      "cell_type": "code",
      "source": [
        "# Hangman Game in Python\n",
        "import random\n",
        "\n",
        "def hangman():\n",
        "    print(\"Welcome to the Hangman Game!\\n\")\n",
        "\n",
        "    # List of words for the game\n",
        "    word_list = [\"python\", \"hangman\", \"developer\", \"programming\", \"computer\", \"algorithm\", \"function\"]\n",
        "    chosen_word = random.choice(word_list)\n",
        "    guessed_word = [\"_\" for _ in chosen_word]\n",
        "    attempts = 6\n",
        "    guessed_letters = []\n",
        "\n",
        "    print(\"Let's start! You have 6 attempts to guess the word.\")\n",
        "\n",
        "    while attempts > 0:\n",
        "        print(\"\\nWord: \" + \" \".join(guessed_word))\n",
        "        print(f\"Attempts remaining: {attempts}\")\n",
        "        print(f\"Guessed letters: {', '.join(guessed_letters)}\")\n",
        "\n",
        "        # Get user's guess\n",
        "        guess = input(\"Guess a letter: \").lower()\n",
        "\n",
        "        if len(guess) != 1 or not guess.isalpha():\n",
        "            print(\"Invalid input! Please enter a single letter.\")\n",
        "            continue\n",
        "\n",
        "        if guess in guessed_letters:\n",
        "            print(\"You already guessed that letter! Try a different one.\")\n",
        "            continue\n",
        "\n",
        "        guessed_letters.append(guess)\n",
        "\n",
        "        if guess in chosen_word:\n",
        "            print(f\"Good job! {guess} is in the word.\")\n",
        "            for i, letter in enumerate(chosen_word):\n",
        "                if letter == guess:\n",
        "                    guessed_word[i] = guess\n",
        "        else:\n",
        "            print(f\"Oops! {guess} is not in the word.\")\n",
        "            attempts -= 1\n",
        "\n",
        "        if \"_\" not in guessed_word:\n",
        "            print(\"\\nCongratulations! You guessed the word: \" + chosen_word)\n",
        "            break\n",
        "\n",
        "    if \"_\" in guessed_word:\n",
        "        print(\"\\nSorry, you've run out of attempts. The word was: \" + chosen_word)\n",
        "\n",
        "# Run the game\n",
        "if __name__ == \"__main__\":\n",
        "    hangman()\n"
      ],
      "metadata": {
        "colab": {
          "base_uri": "https://localhost:8080/"
        },
        "id": "7sztzsEZx_Iu",
        "outputId": "a25a23ec-3d22-4196-f970-760bd50b6be1"
      },
      "execution_count": null,
      "outputs": [
        {
          "output_type": "stream",
          "name": "stdout",
          "text": [
            "Welcome to the Hangman Game!\n",
            "\n",
            "Let's start! You have 6 attempts to guess the word.\n",
            "\n",
            "Word: _ _ _ _ _ _ _ _ _ _ _\n",
            "Attempts remaining: 6\n",
            "Guessed letters: \n",
            "Guess a letter: b\n",
            "Oops! b is not in the word.\n",
            "\n",
            "Word: _ _ _ _ _ _ _ _ _ _ _\n",
            "Attempts remaining: 5\n",
            "Guessed letters: b\n",
            "Guess a letter: e\n",
            "Oops! e is not in the word.\n",
            "\n",
            "Word: _ _ _ _ _ _ _ _ _ _ _\n",
            "Attempts remaining: 4\n",
            "Guessed letters: b, e\n",
            "Guess a letter: a\n",
            "Good job! a is in the word.\n",
            "\n",
            "Word: _ _ _ _ _ a _ _ _ _ _\n",
            "Attempts remaining: 4\n",
            "Guessed letters: b, e, a\n",
            "Guess a letter: u\n",
            "Oops! u is not in the word.\n",
            "\n",
            "Word: _ _ _ _ _ a _ _ _ _ _\n",
            "Attempts remaining: 3\n",
            "Guessed letters: b, e, a, u\n",
            "Guess a letter: t\n",
            "Oops! t is not in the word.\n",
            "\n",
            "Word: _ _ _ _ _ a _ _ _ _ _\n",
            "Attempts remaining: 2\n",
            "Guessed letters: b, e, a, u, t\n",
            "Guess a letter: full\n",
            "Invalid input! Please enter a single letter.\n",
            "\n",
            "Word: _ _ _ _ _ a _ _ _ _ _\n",
            "Attempts remaining: 2\n",
            "Guessed letters: b, e, a, u, t\n",
            "Guess a letter: f\n",
            "Oops! f is not in the word.\n",
            "\n",
            "Word: _ _ _ _ _ a _ _ _ _ _\n",
            "Attempts remaining: 1\n",
            "Guessed letters: b, e, a, u, t, f\n",
            "Guess a letter: u\n",
            "You already guessed that letter! Try a different one.\n",
            "\n",
            "Word: _ _ _ _ _ a _ _ _ _ _\n",
            "Attempts remaining: 1\n",
            "Guessed letters: b, e, a, u, t, f\n",
            "Guess a letter: l\n",
            "Oops! l is not in the word.\n",
            "\n",
            "Sorry, you've run out of attempts. The word was: programming\n"
          ]
        }
      ]
    }
  ]
}