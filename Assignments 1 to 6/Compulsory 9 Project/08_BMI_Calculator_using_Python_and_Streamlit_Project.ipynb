{
  "nbformat": 4,
  "nbformat_minor": 0,
  "metadata": {
    "colab": {
      "provenance": [],
      "authorship_tag": "ABX9TyNiKhPkjuE7ammwAxRpME/n",
      "include_colab_link": true
    },
    "kernelspec": {
      "name": "python3",
      "display_name": "Python 3"
    },
    "language_info": {
      "name": "python"
    }
  },
  "cells": [
    {
      "cell_type": "markdown",
      "metadata": {
        "id": "view-in-github",
        "colab_type": "text"
      },
      "source": [
        "<a href=\"https://colab.research.google.com/github/aliasghar-10/Python-Project-4-Assignments/blob/main/Assignments%201%20to%206/Compulsory%209%20Project/08_BMI_Calculator_using_Python_and_Streamlit_Project.ipynb\" target=\"_parent\"><img src=\"https://colab.research.google.com/assets/colab-badge.svg\" alt=\"Open In Colab\"/></a>"
      ]
    },
    {
      "cell_type": "markdown",
      "source": [
        "# **BMI Calculator using Python and Streamlit Project**\n"
      ],
      "metadata": {
        "id": "TM9COuXcwfui"
      }
    },
    {
      "cell_type": "code",
      "source": [
        "# Import necessary libraries\n",
        "import streamlit as st\n",
        "from pyngrok import ngrok\n",
        "\n",
        "# Define the Streamlit app code\n",
        "def run_streamlit():\n",
        "    # BMI Calculator\n",
        "    st.title('BMI Calculator')\n",
        "\n",
        "    # Weight & height input\n",
        "    height = st.slider('Enter your height (in cm)', 100, 250, 170)\n",
        "    weight = st.slider('Enter your weight (in kgs)', 40, 150, 70)\n",
        "\n",
        "    # Calculate BMI\n",
        "    bmi = weight / ((height / 100) ** 2)\n",
        "\n",
        "    # Display BMI\n",
        "    st.write(f\"Your BMI is {bmi:.2f}\")\n",
        "\n",
        "    # Categorize BMI\n",
        "    if bmi < 18.5:\n",
        "        st.write('You are underweight')\n",
        "    elif bmi >= 18.5 and bmi < 25:\n",
        "        st.write('You are normal weight')\n",
        "    elif bmi >= 25 and bmi < 30:\n",
        "        st.write('You are overweight')\n",
        "    elif bmi >= 30:\n",
        "        st.write('You are obese')\n",
        "\n",
        "# Launch Streamlit app with ngrok\n",
        "def start_streamlit():\n",
        "    public_url = ngrok.connect(port=8501)\n",
        "    print(f\"Streamlit app is live at: {public_url}\")\n",
        "    !streamlit run bmi_app.py\n",
        "\n",
        "# Save the Streamlit app code to a file\n",
        "with open(\"bmi_app.py\", \"w\") as file:\n",
        "    file.write(\"\"\"import streamlit as st\n",
        "\n",
        "st.title('BMI Calculator')\n",
        "\n",
        "# Weight & height input\n",
        "height = st.slider('Enter your height (in cm)', 100, 250, 170)\n",
        "weight = st.slider('Enter your weight (in kgs)', 40, 150, 70)\n",
        "\n",
        "# Calculate BMI\n",
        "bmi = weight / ((height / 100) ** 2)\n",
        "\n",
        "# Display BMI\n",
        "st.write(f\"Your BMI is {bmi:.2f}\")\n",
        "\n",
        "# Categorize BMI\n",
        "if bmi < 18.5:\n",
        "    st.write('You are underweight')\n",
        "elif bmi >= 18.5 and bmi < 25:\n",
        "    st.write('You are normal weight')\n",
        "elif bmi >= 25 and bmi < 30:\n",
        "    st.write('You are overweight')\n",
        "elif bmi >= 30:\n",
        "    st.write('You are obese')\n",
        "\"\"\")\n",
        "\n",
        "# Run Streamlit app\n",
        "start_streamlit()\n"
      ],
      "metadata": {
        "id": "LciNyfRmwjSN"
      },
      "execution_count": null,
      "outputs": []
    }
  ]
}